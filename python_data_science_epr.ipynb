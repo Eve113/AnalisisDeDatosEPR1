{
  "cells": [
    {
      "cell_type": "markdown",
      "metadata": {
        "id": "view-in-github",
        "colab_type": "text"
      },
      "source": [
        "<a href=\"https://colab.research.google.com/github/Eve113/AnalisisDeDatosEPR1/blob/main/python_data_science_epr.ipynb\" target=\"_parent\"><img src=\"https://colab.research.google.com/assets/colab-badge.svg\" alt=\"Open In Colab\"/></a>"
      ]
    },
    {
      "cell_type": "markdown",
      "metadata": {
        "id": "iTItqS4Ngo52"
      },
      "source": [
        "# **Python para Data Science**\n",
        "A continuación se podrá observar algunos desafíos hechos en el aula de alura del curso *Python Data Science Primeros Pasos*"
      ]
    },
    {
      "cell_type": "markdown",
      "source": [
        "## **Primeros** **Pasos**"
      ],
      "metadata": {
        "id": "50K6E5CvZS6I"
      }
    },
    {
      "cell_type": "markdown",
      "metadata": {
        "id": "IO15Xv_wtaqs"
      },
      "source": [
        "Imprime la frase \"Escuela de Datos de Alura\""
      ]
    },
    {
      "cell_type": "code",
      "execution_count": null,
      "metadata": {
        "colab": {
          "base_uri": "https://localhost:8080/"
        },
        "id": "tGUwjEykhMen",
        "outputId": "59e9a7cc-4c7c-4424-8539-f88ff45ac91b"
      },
      "outputs": [
        {
          "name": "stdout",
          "output_type": "stream",
          "text": [
            "Escuela de Datos de Alura\n"
          ]
        }
      ],
      "source": [
        "print(\"Escuela de Datos de Alura\")"
      ]
    },
    {
      "cell_type": "markdown",
      "metadata": {
        "id": "EKdpL64rcIQw"
      },
      "source": [
        "Imprime tu nombre y apellido"
      ]
    },
    {
      "cell_type": "code",
      "execution_count": null,
      "metadata": {
        "colab": {
          "base_uri": "https://localhost:8080/"
        },
        "id": "xwEJFjXHhWYs",
        "outputId": "d4db29c5-5b36-4fe9-c592-41e556d256f6"
      },
      "outputs": [
        {
          "name": "stdout",
          "output_type": "stream",
          "text": [
            "Nombre:Evelyn\n",
            "Apellido: Pareja Ríos\n"
          ]
        }
      ],
      "source": [
        "nombre = \"Evelyn\"\n",
        "Apellido = \"Pareja Ríos\"\n",
        "print(f'Nombre:{nombre}\\nApellido: {Apellido}')"
      ]
    },
    {
      "cell_type": "markdown",
      "metadata": {
        "id": "xv8U1K8AuFoT"
      },
      "source": [
        "Imprime tu primer nombre letra por letra. Por ejemplo, si mi nombre es Álvaro, la salida sería:\n",
        "\n",
        "Á\n",
        "L\n",
        "V\n",
        "A\n",
        "R\n",
        "O"
      ]
    },
    {
      "cell_type": "code",
      "execution_count": null,
      "metadata": {
        "colab": {
          "base_uri": "https://localhost:8080/"
        },
        "id": "DBOKARZji_Sk",
        "outputId": "b240086a-e475-4a33-f703-20fef4501481"
      },
      "outputs": [
        {
          "name": "stdout",
          "output_type": "stream",
          "text": [
            "Ingrese su nombre:Evelyn\n",
            "E\n",
            "v\n",
            "e\n",
            "l\n",
            "y\n",
            "n\n"
          ]
        }
      ],
      "source": [
        "nombre = input(\"Ingrese su nombre:\")\n",
        "for char in nombre:\n",
        "  print(char)"
      ]
    },
    {
      "cell_type": "markdown",
      "metadata": {
        "id": "BPtJJIgauORL"
      },
      "source": [
        "Imprime tu fecha de nacimiento en formato día mes año. Recuerda que los valores de día y año no deben estar entre comillas. Suponiendo una fecha de cumpleaños el 28 de febrero de 2003, el formato debe ser como el siguiente:\n",
        "\n",
        "28 febrero 2003"
      ]
    },
    {
      "cell_type": "code",
      "execution_count": null,
      "metadata": {
        "colab": {
          "base_uri": "https://localhost:8080/"
        },
        "id": "V0crC8qjkkG_",
        "outputId": "b5f3fe1d-d7ad-436f-9989-c77a2ecb5fe0"
      },
      "outputs": [
        {
          "name": "stdout",
          "output_type": "stream",
          "text": [
            "Ingrese su nombre:Evelyn\n",
            "Ingrese su fecha de nacimiento en formato DD/MM/AAAA:13/01/2003\n",
            "Hola Evelyn, tu naciste el: 13 de enero de 2003 un día Lunes\n"
          ]
        }
      ],
      "source": [
        "from datetime import datetime\n",
        "\n",
        "nombre = input(\"Ingrese su nombre:\")\n",
        "Nacimiento = input(\"Ingrese su fecha de nacimiento en formato DD/MM/AAAA:\")\n",
        "\n",
        "try:\n",
        "  fecha_nac = datetime.strptime(Nacimiento, \"%d/%m/%Y\")\n",
        "#Condicional para validar si la fecha ingresada es valida\n",
        "  if fecha_nac > datetime.now():\n",
        "    print(\"La fecha no puede ser en el futuro\")\n",
        "  else:\n",
        "    dia = fecha_nac.strftime(\"%A\")\n",
        "# Traducir días y meses al español\n",
        "    if dia == \"Monday\":\n",
        "      dia = \"Lunes\"\n",
        "    if dia == \"Tuesday\":\n",
        "      dia = \"Martes\"\n",
        "    if dia == \"Wednesday\":\n",
        "      dia = \"Miércoles\"\n",
        "    if dia == \"Thursday\":\n",
        "      dia = \"Jueves\"\n",
        "    if dia == \"Friday\":\n",
        "      dia = \"Viernes\"\n",
        "    if dia == \"Saturday\":\n",
        "      dia = \"Sábado\"\n",
        "    if dia == \"Sunday\":\n",
        "      dia = \"Domingo\"\n",
        "    if fecha_nac.month == 1:\n",
        "      mes = \"enero\"\n",
        "    if fecha_nac.month == 2:\n",
        "      mes = \"febrero\"\n",
        "    if fecha_nac.month == 3:\n",
        "      mes = \"marzo\"\n",
        "    if fecha_nac.month == 4:\n",
        "      mes = \"abril\"\n",
        "    if fecha_nac.month == 5:\n",
        "      mes = \"mayo\"\n",
        "    if fecha_nac.month == 6:\n",
        "      mes = \"junio\"\n",
        "    if fecha_nac.month == 7:\n",
        "      mes = \"julio\"\n",
        "    if fecha_nac.month == 8:\n",
        "      mes = \"agosto\"\n",
        "    if fecha_nac.month == 9:\n",
        "      mes = \"septiembre\"\n",
        "    if fecha_nac.month == 10:\n",
        "      mes = \"octubre\"\n",
        "    if fecha_nac.month == 11:\n",
        "      mes = \"noviembre\"\n",
        "    if fecha_nac.month == 12:\n",
        "      mes = \"diciembre\"\n",
        "  print(f'Hola {nombre}, tu naciste el {fecha_nac.strftime(f\"%d de {mes} de %Y un día {dia}\")}')\n",
        "\n",
        "#Condicional para validar si el formato de la fecha es valido\n",
        "except ValueError:\n",
        "  print(\"Formato de fecha incorrecto. Intente nuevamente.\")"
      ]
    },
    {
      "cell_type": "markdown",
      "metadata": {
        "id": "RPO6mla-p9TJ"
      },
      "source": [
        "En una empresa de venta de bienes raíces, debes crear un código que analice los datos de ventas anuales para ayudar a la dirección en la toma de decisiones. El código debe recopilar los datos de cantidad de ventas durante los años 2022 y 2023 y calcular la variación porcentual. A partir del valor de la variación, se deben proporcionar las siguientes sugerencias:\n",
        "\n",
        "Para una variación superior al 20%: bonificación para el equipo de ventas.\n",
        "Para una variación entre el 2% y el 20%: pequeña bonificación para el equipo de ventas.\n",
        "Para una variación entre el 2% y el -10%: planificación de políticas de incentivo a las ventas.\n",
        "Para bonificaciones inferiores al -10%: recorte de gastos."
      ]
    },
    {
      "cell_type": "code",
      "execution_count": null,
      "metadata": {
        "colab": {
          "base_uri": "https://localhost:8080/"
        },
        "id": "D7G-ub2qKElX",
        "outputId": "97e81eb2-de32-48c1-87ac-b7e6ec532516"
      },
      "outputs": [
        {
          "name": "stdout",
          "output_type": "stream",
          "text": [
            "Ingrese la cantidad de ventas del año actual:12\n",
            "Ingrese la cantidad de ventas del año pasado:0\n",
            "Las ventas aumentaron respecto al año anterior, en el cual no se registraron ingresos, por lo tanto no se calcula la variación porcentual.\n"
          ]
        }
      ],
      "source": [
        "año_nuevo= int(input('Ingrese la cantidad de ventas del año actual:'))\n",
        "año_viejo = int(input('Ingrese la cantidad de ventas del año pasado:'))\n",
        "\n",
        "if año_viejo == 0:\n",
        "  print(\"Las ventas aumentaron respecto al año anterior, en el cual no se registraron ingresos, por lo tanto no se calcula la variación porcentual.\")\n",
        "else:\n",
        "  variacion = ((año_nuevo - año_viejo)/año_viejo)*100\n",
        "  if variacion > 20:\n",
        "    print('Se le dará una bonificación al equipo de ventas')\n",
        "  elif variacion >= 2 and variacion <= 20:\n",
        "    print('Se le dará una pequeña bonificación para el equipo de ventas')\n",
        "  elif variacion >= -10 and variacion < 2:\n",
        "    print('Se hará una planificación de políticas de incentivo a las ventas')\n",
        "  else:\n",
        "    print('Se hará un recorte de gastos')"
      ]
    },
    {
      "cell_type": "markdown",
      "metadata": {
        "id": "uJtSICYHTb8M"
      },
      "source": [
        "En una elección para la gerencia de una empresa con 20 empleados, hay cuatro candidatos. Escribe un programa que calcule al ganador de la elección. La votación se realizó de la siguiente manera:\n",
        "\n",
        "Cada empleado votó por uno de los cuatro candidatos (representados por los números 1, 2, 3 y 4).\n",
        "\n",
        "También se contaron los votos nulos (representados por el número 5) y los votos en blanco (representados por el número 6).\n",
        "\n",
        "Al final de la votación, el programa debe mostrar el número total de votos para cada candidato, los votos nulos y los votos en blanco. Además, debe calcular y mostrar el porcentaje de votos nulos con respecto al total de votos y el porcentaje de votos en blanco con respecto al total de votos."
      ]
    },
    {
      "cell_type": "code",
      "execution_count": null,
      "metadata": {
        "colab": {
          "base_uri": "https://localhost:8080/"
        },
        "id": "e8vqGfZrTatQ",
        "outputId": "aa71bcab-eb2e-4ec1-9040-608018f039fd"
      },
      "outputs": [
        {
          "name": "stdout",
          "output_type": "stream",
          "text": [
            "Ingresa tu voto: 1\n",
            "Ingresa tu voto: 2\n",
            "Ingresa tu voto: 3\n",
            "Ingresa tu voto: 4\n",
            "Ingresa tu voto: 5\n",
            "Voto anulado debido a que se marco un numero distinto de 1,2,3,4 y 6\n",
            "Ingresa tu voto: 4\n",
            "Ingresa tu voto: 3\n",
            "Ingresa tu voto: 4\n",
            "Ingresa tu voto: 5\n",
            "Voto anulado debido a que se marco un numero distinto de 1,2,3,4 y 6\n",
            "Ingresa tu voto: 6\n",
            "Ingresa tu voto: 7\n",
            "Voto anulado debido a que se marco un numero distinto de 1,2,3,4 y 6\n",
            "Ingresa tu voto: 3\n",
            "Ingresa tu voto: 4\n",
            "Ingresa tu voto: 6\n",
            "Ingresa tu voto: 2\n",
            "Ingresa tu voto: 3\n",
            "Ingresa tu voto: 5\n",
            "Voto anulado debido a que se marco un numero distinto de 1,2,3,4 y 6\n",
            "Ingresa tu voto: 6\n",
            "Ingresa tu voto: 4\n",
            "Ingresa tu voto: 4\n",
            "Votos candidato 1: 1\n",
            "Votos candidato 2: 2\n",
            "Votos candidato 3: 4\n",
            "Votos candidato 4: 6\n",
            "Votos nulos: 4\n",
            "Votos en blanco: 3\n",
            "Porcentaje de votos nulos: 20.0\n",
            "Porcentaje de votos en blanco: 15.0\n"
          ]
        }
      ],
      "source": [
        "candidato1 = 0\n",
        "candidato2 = 0\n",
        "candidato3 = 0\n",
        "candidato4 = 0\n",
        "nulos = 0\n",
        "blanco = 0\n",
        "for i in range(0, 20):\n",
        "    voto = int(input('Ingresa tu voto: '))\n",
        "    if voto == 1:\n",
        "        candidato1 += 1\n",
        "    elif voto == 2:\n",
        "        candidato2 += 1\n",
        "    elif voto == 3:\n",
        "        candidato3 += 1\n",
        "    elif voto == 4:\n",
        "        candidato4 += 1\n",
        "    elif voto == 6:\n",
        "        blanco += 1\n",
        "    else:\n",
        "        nulos += 1\n",
        "        print(\"Voto anulado debido a que se marco un numero distinto de 1,2,3,4 y 6\")\n",
        "\n",
        "\n",
        "print(f'Votos candidato 1: {candidato1}')\n",
        "print(f'Votos candidato 2: {candidato2}')\n",
        "print(f'Votos candidato 3: {candidato3}')\n",
        "print(f'Votos candidato 4: {candidato4}')\n",
        "print(f'Votos nulos: {nulos}')\n",
        "print(f'Votos en blanco: {blanco}')\n",
        "print(f'Porcentaje de votos nulos: {(nulos / 20 * 100)}')\n",
        "print(f'Porcentaje de votos en blanco: {(blanco / 20 * 100)}')"
      ]
    },
    {
      "cell_type": "markdown",
      "source": [
        "Escribe un código que lee la lista siguiente y realiza:"
      ],
      "metadata": {
        "id": "O6Ph6ZLMYSJA"
      }
    },
    {
      "cell_type": "code",
      "execution_count": null,
      "metadata": {
        "colab": {
          "base_uri": "https://localhost:8080/"
        },
        "id": "qd92R07JJoR7",
        "outputId": "12069e0c-7193-4bb8-d2d9-4b197670f876"
      },
      "outputs": [
        {
          "output_type": "stream",
          "name": "stdout",
          "text": [
            "La lista tiene 17 números, donde el mayor es 99 y el menor es 11. La suma de los valores es 743.\n"
          ]
        }
      ],
      "source": [
        "lista = [16, 14, 63, 65, 17, 99, 70, 11, 20, 48, 79, 32, 17, 89, 12, 25, 66]\n",
        "# 1. Leer el tamaño de la lista\n",
        "# 2. Leer el valor máximo y mínimo\n",
        "# 3. Calcular la suma de los valores de la lista\n",
        "# 4. Mostrar un mensaje al final: La lista tiene `tamano` números, donde el mayor\n",
        "# es `mayor` y el menor es `menor`. La suma de los valores es `suma`.\n",
        "\n",
        "\n",
        "tamaño = len(lista)\n",
        "mayor = max(lista)\n",
        "menor = min(lista)\n",
        "suma = sum(lista)\n",
        "\n",
        "print(f'La lista tiene {tamaño} números, donde el mayor es {mayor} y el menor es {menor}. La suma de los valores es {suma}.')"
      ]
    },
    {
      "cell_type": "markdown",
      "source": [
        "Escribe una función que genere la tabla de multiplicar de un número entero del 1 al 10, según la elección del usuario. Como ejemplo, para el número 7, la tabla de multiplicar se debe mostrar en el siguiente formato:"
      ],
      "metadata": {
        "id": "kE0nL9-5YZPT"
      }
    },
    {
      "cell_type": "code",
      "source": [
        "import math\n",
        "\n",
        "def tabla(numero):\n",
        "  for i in range(1,11):\n",
        "    if numero <= 10:\n",
        "      print(f'{numero} x {i} = {numero * i}')\n",
        "    else:\n",
        "      print(\"El número ingresado es mayor a 10\")\n",
        "      break\n",
        "\n",
        "numero = int(input('ingrese un número:'))\n",
        "tabla(numero)\n"
      ],
      "metadata": {
        "colab": {
          "base_uri": "https://localhost:8080/"
        },
        "id": "GvDi6hwmYexl",
        "outputId": "bb2e9a06-2ddc-490b-bc12-fd8f3aed86b8"
      },
      "execution_count": null,
      "outputs": [
        {
          "output_type": "stream",
          "name": "stdout",
          "text": [
            "ingrese un número:11\n",
            "El número ingresado es mayor a 10\n"
          ]
        }
      ]
    },
    {
      "cell_type": "markdown",
      "source": [
        "Crea una función que lea la siguiente lista y devuelva una nueva lista con los múltiplos de 3:"
      ],
      "metadata": {
        "id": "VjHx9J0ueCLV"
      }
    },
    {
      "cell_type": "code",
      "source": [
        "import math\n",
        "\n",
        "def multiplos(lista):\n",
        "  lista_nv = []\n",
        "  for i in lista:\n",
        "    if i % 3 == 0:\n",
        "      lista_nv.append(i)\n",
        "  return lista_nv\n",
        "\n",
        "lista = [97, 80, 94, 88, 80, 1, 16, 53, 62, 32, 24, 99]\n",
        "multiplos(lista)\n",
        "\n"
      ],
      "metadata": {
        "colab": {
          "base_uri": "https://localhost:8080/"
        },
        "id": "SknahaQMeDe1",
        "outputId": "9ed9dc89-befd-42b1-c6ab-6259b8d52f5b"
      },
      "execution_count": null,
      "outputs": [
        {
          "output_type": "execute_result",
          "data": {
            "text/plain": [
              "[24, 99]"
            ]
          },
          "metadata": {},
          "execution_count": 23
        }
      ]
    },
    {
      "cell_type": "markdown",
      "source": [
        "Crea una lista de los cuadrados de los números de la siguiente lista [1, 2, 3, 4, 5, 6, 7, 8, 9, 10]. Recuerda utilizar las funciones lambda y map() para calcular el cuadrado de cada elemento de la lista"
      ],
      "metadata": {
        "id": "Er7AxDM4i-5x"
      }
    },
    {
      "cell_type": "code",
      "source": [
        "lista = [1, 2, 3, 4, 5, 6, 7, 8, 9, 10]\n",
        "cuadrados = map(lambda x: x**2, lista)\n",
        "print(list(cuadrados))"
      ],
      "metadata": {
        "colab": {
          "base_uri": "https://localhost:8080/"
        },
        "id": "Mk7xHNGZi8qN",
        "outputId": "9db75021-8143-43ec-fa22-e5dea743c86e"
      },
      "execution_count": null,
      "outputs": [
        {
          "output_type": "stream",
          "name": "stdout",
          "text": [
            "[1, 4, 9, 16, 25, 36, 49, 64, 81, 100]\n"
          ]
        }
      ]
    },
    {
      "cell_type": "markdown",
      "source": [
        "Has sido contratado como científica de datos de una asociación de skate. Para analizar las notas recibidas por los skaters en algunas competiciones a lo largo del año, necesitas crear un código que calcule la puntuación de los atletas. Para ello, tu código debe recibir 5 notas ingresadas por los jueces"
      ],
      "metadata": {
        "id": "bqkThYf_jwdh"
      }
    },
    {
      "cell_type": "code",
      "source": [
        "lista = []\n",
        "jueces = int(input('Ingrese la cantidad de jueces:'))\n",
        "n = jueces + 1\n",
        "for i in range(1,n):\n",
        "  nota = float(input('Ingrese la calificación del jurado:'))\n",
        "  lista.append(nota)\n",
        "puntuación = sum(lista) - min(lista) - max(lista)\n",
        "print(f'La puntuación del competidor es: {puntuación},\\nBaja el número {max(lista)} y el número {min(lista)}')\n"
      ],
      "metadata": {
        "colab": {
          "base_uri": "https://localhost:8080/"
        },
        "id": "esibbBpQj2ql",
        "outputId": "8ba9037f-42e7-444a-c43f-aedce5ed6f49"
      },
      "execution_count": null,
      "outputs": [
        {
          "output_type": "stream",
          "name": "stdout",
          "text": [
            "Ingrese la cantidad de jueces:3\n",
            "Ingrese la calificación del jurado:1\n",
            "Ingrese la calificación del jurado:3\n",
            "Ingrese la calificación del jurado:2\n",
            "La puntuación del competidor es: 2.0,\n",
            "Baja el número 3.0 y el número 1.0\n"
          ]
        }
      ]
    },
    {
      "cell_type": "markdown",
      "source": [
        "Para cumplir con una demanda de una institución educativa para el análisis del rendimiento de sus estudiantes, necesitas crear una función que reciba una lista de 4 notas y devuelva:"
      ],
      "metadata": {
        "id": "7o4tsA-RnX8Q"
      }
    },
    {
      "cell_type": "code",
      "source": [
        "import numpy as np\n",
        "from statistics import mean\n",
        "\n",
        "def estudiante(lista):\n",
        "  for i in range(1,5):\n",
        "    nota = float(input('Ingrese una nota:'))\n",
        "    lista.append(nota)\n",
        "  if sum(lista) / len(lista) >= 3:\n",
        "    situación = 'aprobado'\n",
        "  else:\n",
        "    situación = 'reprobado'\n",
        "  print(f'La mayor nota del curso fue de {max(lista)}, la menor nota fue de {min(lista)}, la media es de {mean(lista)}, la situación del estudiante es de {situación}')\n",
        "\n",
        "lista = []\n",
        "estudiante(lista)"
      ],
      "metadata": {
        "colab": {
          "base_uri": "https://localhost:8080/"
        },
        "id": "pWX88jjxnZJf",
        "outputId": "5cec8872-017a-4d13-cc10-93639f3e91e2"
      },
      "execution_count": null,
      "outputs": [
        {
          "output_type": "stream",
          "name": "stdout",
          "text": [
            "Ingrese una nota:1\n",
            "Ingrese una nota:2\n",
            "Ingrese una nota:5\n",
            "Ingrese una nota:2\n",
            "La mayor nota del curso fue de 5.0, la menor nota fue de 1.0, la media es de 2.5, la situación del estudiante es de reprobado\n"
          ]
        }
      ]
    },
    {
      "cell_type": "markdown",
      "source": [
        "## **Manipulación y análisis con NumPy y Pandas**\n"
      ],
      "metadata": {
        "id": "JTa8MqrcZnS2"
      }
    },
    {
      "cell_type": "markdown",
      "source": [
        "### **Primera practica en clase**"
      ],
      "metadata": {
        "id": "55McCw4Iam9X"
      }
    },
    {
      "cell_type": "markdown",
      "source": [
        "Cargar la Dataset del enlace https://gist.githubusercontent.com/ahcamachod/41b8a65c5e5b58125401deafb68af460/raw/f84320f69efa1cc3e86e1db054422cfa4869c63e/manzanas.csv"
      ],
      "metadata": {
        "id": "abl2ov8Eava9"
      }
    },
    {
      "cell_type": "code",
      "source": [
        "import numpy as np\n",
        "url = 'https://gist.githubusercontent.com/ahcamachod/41b8a65c5e5b58125401deafb68af460/raw/f84320f69efa1cc3e86e1db054422cfa4869c63e/manzanas.csv'\n",
        "datos = np.loadtxt(url,delimiter=',', usecols= np.arange(1,88,1))"
      ],
      "metadata": {
        "colab": {
          "base_uri": "https://localhost:8080/"
        },
        "id": "jkI_oLlkbFMw",
        "outputId": "09dede9e-9a95-41c8-d1af-4aa9c0f2329c"
      },
      "execution_count": null,
      "outputs": [
        {
          "output_type": "execute_result",
          "data": {
            "text/plain": [
              "array([[  1.2013,   2.2013,   3.2013,   4.2013,   5.2013,   6.2013,\n",
              "          7.2013,   8.2013,   9.2013,  10.2013,  11.2013,  12.2013,\n",
              "          1.2014,   2.2014,   3.2014,   4.2014,   5.2014,   6.2014,\n",
              "          7.2014,   8.2014,   9.2014,  10.2014,  11.2014,  12.2014,\n",
              "          1.2015,   2.2015,   3.2015,   4.2015,   5.2015,   6.2015,\n",
              "          7.2015,   8.2015,   9.2015,  10.2015,  11.2015,  12.2015,\n",
              "          1.2016,   2.2016,   3.2016,   4.2016,   5.2016,   6.2016,\n",
              "          7.2016,   8.2016,   9.2016,  10.2016,  11.2016,  12.2016,\n",
              "          1.2017,   2.2017,   3.2017,   4.2017,   5.2017,   6.2017,\n",
              "          7.2017,   8.2017,   9.2017,  10.2017,  11.2017,  12.2017,\n",
              "          1.2018,   2.2018,   3.2018,   4.2018,   5.2018,   6.2018,\n",
              "          7.2018,   8.2018,   9.2018,  10.2018,  11.2018,  12.2018,\n",
              "          1.2019,   2.2019,   3.2019,   4.2019,   5.2019,   6.2019,\n",
              "          7.2019,   8.2019,   9.2019,  10.2019,  11.2019,  12.2019,\n",
              "          1.202 ,   2.202 ,   3.202 ],\n",
              "       [ 79.72  ,  81.08  ,  79.68  ,  79.8   ,  80.63  ,  80.8   ,\n",
              "         80.28  ,  78.99  ,  76.77  ,  76.09  ,  76.36  ,  77.16  ,\n",
              "         77.5   ,  79.03  ,  80.28  ,  80.05  ,  78.11  ,  76.9   ,\n",
              "         77.68  ,  76.05  ,  75.53  ,  73.39  ,  78.36  ,  89.16  ,\n",
              "        105.43  , 104.82  , 101.15  ,  98.63  ,  99.96  ,  97.29  ,\n",
              "         98.64  , 104.26  , 102.63  ,  98.64  ,  97.17  ,  98.09  ,\n",
              "        103.07  , 110.26  , 110.84  , 112.28  , 111.1   , 110.06  ,\n",
              "        113.7   , 112.88  , 102.08  ,  95.54  ,  91.33  ,  89.99  ,\n",
              "         91.44  ,  93.51  ,  93.6   ,  93.78  ,  98.91  , 121.76  ,\n",
              "        129.6   , 127.9   , 114.55  , 101.88  ,  99.09  , 103.35  ,\n",
              "        106.58  , 108.    , 114.95  , 121.17  , 122.48  , 127.58  ,\n",
              "        131.89  , 129.36  , 104.26  ,  93.45  ,  92.93  ,  96.15  ,\n",
              "         99.1   , 103.    , 103.31  , 103.01  , 107.37  , 116.91  ,\n",
              "        125.29  , 123.94  , 113.03  , 102.19  ,  97.83  , 101.07  ,\n",
              "        103.44  , 108.23  , 110.28  ],\n",
              "       [ 42.67  ,  44.37  ,  44.73  ,  46.75  ,      nan,  51.59  ,\n",
              "         57.8   ,  62.14  ,  56.76  ,  50.85  ,  46.43  ,  46.73  ,\n",
              "         45.85  ,  49.25  ,  48.14  ,  49.18  ,  49.49  ,  49.83  ,\n",
              "         49.14  ,  63.21  ,  61.2   ,  60.34  ,  62.2   ,  74.2   ,\n",
              "         75.32  ,  75.92  ,  72.89  ,  74.85  ,  92.19  ,  99.7   ,\n",
              "        102.78  ,  92.67  ,  90.63  ,  83.31  ,  75.5   ,  74.6   ,\n",
              "         76.94  ,  83.04  ,  80.74  ,  80.29  ,  82.82  ,  86.29  ,\n",
              "         87.41  ,  85.1   ,  78.08  ,  76.06  ,  69.23  ,  69.04  ,\n",
              "         64.48  ,  65.73  ,  67.2   ,  70.25  ,  82.59  ,  92.12  ,\n",
              "        100.82  ,  95.23  ,  89.51  ,  82.84  ,  82.3   ,  83.76  ,\n",
              "         84.72  ,  83.91  ,  99.14  , 101.6   , 113.03  , 119.54  ,\n",
              "        118.09  , 107.32  ,  82.6   ,  77.4   ,  71.77  ,  71.25  ,\n",
              "         71.35  ,  73.62  ,  76.2   ,  74.15  ,  75.67  ,  79.2   ,\n",
              "         80.85  ,  85.33  ,  75.02  ,  77.95  ,  78.98  ,  76.55  ,\n",
              "         74.89  ,  70.    ,  81.53  ],\n",
              "       [ 62.55  ,  62.73  ,  63.43  ,  63.83  ,  66.06  ,  69.22  ,\n",
              "         72.07  ,  69.31  ,  65.18  ,  62.13  ,  64.17  ,  65.5   ,\n",
              "         66.85  ,  68.38  ,  68.77  ,  69.32  ,  69.77  ,  70.17  ,\n",
              "         70.76  ,  75.16  ,  74.86  ,  71.47  ,  76.08  ,  82.11  ,\n",
              "         94.63  ,  98.54  ,  97.84  ,  94.54  ,  97.88  ,  97.73  ,\n",
              "        100.89  , 104.88  , 104.39  , 101.9   ,  98.99  ,  99.42  ,\n",
              "        106.37  , 113.89  , 114.78  , 115.6   , 115.89  , 117.66  ,\n",
              "        118.27  , 114.19  , 101.81  ,  91.62  ,  90.15  ,  90.55  ,\n",
              "         92.3   ,  91.75  ,  92.    ,  92.57  , 100.28  , 114.33  ,\n",
              "        122.17  , 117.83  , 112.49  ,  93.7   ,  97.17  ,  95.64  ,\n",
              "        102.21  , 107.58  , 110.48  , 117.73  , 122.07  , 128.58  ,\n",
              "        131.12  , 127.08  , 110.99  ,  97.43  ,  92.05  ,  93.21  ,\n",
              "         98.58  , 100.23  , 102.09  , 101.73  , 107.28  , 115.35  ,\n",
              "        123.03  , 123.08  , 109.71  ,  97.22  ,  95.75  ,  97.09  ,\n",
              "         98.18  , 103.1   , 110.6   ],\n",
              "       [ 48.26  ,  51.01  ,  50.91  ,  53.94  ,  61.27  ,  65.44  ,\n",
              "         56.51  ,  53.    ,  43.87  ,  42.12  ,  43.98  ,  44.66  ,\n",
              "         47.73  ,  52.31  ,  56.8   ,  51.15  ,  54.63  ,  55.8   ,\n",
              "         57.31  ,  53.81  ,  55.5   ,  52.95  ,  53.29  ,  54.86  ,\n",
              "         71.72  ,  74.36  ,  78.25  ,  70.63  ,  77.06  ,  81.52  ,\n",
              "         84.12  ,  83.33  ,  66.98  ,  62.04  ,  59.79  ,  66.06  ,\n",
              "         71.99  ,  76.79  ,  80.98  ,  89.18  ,  92.71  ,  94.85  ,\n",
              "         99.18  ,  86.33  ,  71.94  ,  67.18  ,  62.98  ,  69.45  ,\n",
              "         67.56  ,  67.92  ,  68.4   ,  67.97  ,  76.33  ,  95.79  ,\n",
              "        112.36  ,  82.03  ,  73.83  ,  66.12  ,  63.24  ,  63.98  ,\n",
              "         69.1   ,  70.04  ,  80.03  ,  87.92  ,  97.07  , 106.52  ,\n",
              "        108.93  ,  95.17  ,  74.31  ,  62.63  ,  69.92  ,  70.58  ,\n",
              "         74.63  ,  78.69  ,  81.82  ,  82.36  ,  89.44  , 102.01  ,\n",
              "        116.12  ,  92.06  ,  82.7   ,  66.62  ,  68.11  ,  73.48  ,\n",
              "         82.04  ,  81.19  ,  95.05  ],\n",
              "       [ 71.25  ,  71.35  ,  70.9   ,  71.92  ,  72.91  ,  74.39  ,\n",
              "         73.1   ,  70.24  ,  69.12  ,  68.98  ,  68.58  ,  69.5   ,\n",
              "         70.14  ,  70.58  ,  70.78  ,  72.78  ,  72.84  ,  74.74  ,\n",
              "         76.43  ,  81.2   ,  82.04  ,  79.67  ,  81.25  ,  85.88  ,\n",
              "         91.35  , 101.32  , 102.45  ,  98.18  , 105.1   , 104.85  ,\n",
              "        111.48  , 118.51  , 118.92  , 109.87  , 105.22  , 105.45  ,\n",
              "        115.61  , 116.61  , 120.39  , 119.2   , 119.92  , 120.57  ,\n",
              "        123.37  , 121.39  , 118.16  , 108.84  , 100.78  ,  99.92  ,\n",
              "        100.65  ,  98.92  , 100.31  ,  96.41  , 101.24  , 118.7   ,\n",
              "        133.29  , 130.31  , 122.4   , 104.98  , 107.54  , 110.74  ,\n",
              "        110.51  , 111.46  , 113.42  , 118.15  , 114.    , 124.91  ,\n",
              "        126.06  , 123.3   , 111.61  ,  98.82  ,  97.47  , 103.01  ,\n",
              "        109.36  , 104.79  , 105.09  , 103.16  , 106.52  , 121.68  ,\n",
              "        125.32  , 123.41  , 108.48  ,  98.73  ,  96.25  , 100.12  ,\n",
              "        101.29  , 102.81  , 108.53  ]])"
            ]
          },
          "metadata": {},
          "execution_count": 2
        }
      ]
    },
    {
      "cell_type": "code",
      "source": [
        "# Cantidad de dimenciones del Array\n",
        "datos.ndim"
      ],
      "metadata": {
        "colab": {
          "base_uri": "https://localhost:8080/"
        },
        "id": "CrsBbn_bdfb8",
        "outputId": "e4ee09a2-6f54-4e72-cd0b-a29832e6a1c7"
      },
      "execution_count": null,
      "outputs": [
        {
          "output_type": "execute_result",
          "data": {
            "text/plain": [
              "2"
            ]
          },
          "metadata": {},
          "execution_count": 3
        }
      ]
    },
    {
      "cell_type": "code",
      "source": [
        "# Forma del Array\n",
        "datos.shape"
      ],
      "metadata": {
        "colab": {
          "base_uri": "https://localhost:8080/"
        },
        "id": "jkUCE8qHdlkP",
        "outputId": "209e9bcc-ef14-48e5-cbf4-013aa13e5f9f"
      },
      "execution_count": null,
      "outputs": [
        {
          "output_type": "execute_result",
          "data": {
            "text/plain": [
              "(6, 87)"
            ]
          },
          "metadata": {},
          "execution_count": 4
        }
      ]
    },
    {
      "cell_type": "code",
      "source": [
        "# Convertir las columnas en filas y las filas en columnas\n",
        "Datos_Transpuestos = datos.T"
      ],
      "metadata": {
        "colab": {
          "base_uri": "https://localhost:8080/"
        },
        "id": "xpOAYLXhd2Mq",
        "outputId": "40ae4681-03f7-4edd-ab25-363b2c8a7858"
      },
      "execution_count": null,
      "outputs": [
        {
          "output_type": "execute_result",
          "data": {
            "text/plain": [
              "array([[  1.2013,  79.72  ,  42.67  ,  62.55  ,  48.26  ,  71.25  ],\n",
              "       [  2.2013,  81.08  ,  44.37  ,  62.73  ,  51.01  ,  71.35  ],\n",
              "       [  3.2013,  79.68  ,  44.73  ,  63.43  ,  50.91  ,  70.9   ],\n",
              "       [  4.2013,  79.8   ,  46.75  ,  63.83  ,  53.94  ,  71.92  ],\n",
              "       [  5.2013,  80.63  ,      nan,  66.06  ,  61.27  ,  72.91  ],\n",
              "       [  6.2013,  80.8   ,  51.59  ,  69.22  ,  65.44  ,  74.39  ],\n",
              "       [  7.2013,  80.28  ,  57.8   ,  72.07  ,  56.51  ,  73.1   ],\n",
              "       [  8.2013,  78.99  ,  62.14  ,  69.31  ,  53.    ,  70.24  ],\n",
              "       [  9.2013,  76.77  ,  56.76  ,  65.18  ,  43.87  ,  69.12  ],\n",
              "       [ 10.2013,  76.09  ,  50.85  ,  62.13  ,  42.12  ,  68.98  ],\n",
              "       [ 11.2013,  76.36  ,  46.43  ,  64.17  ,  43.98  ,  68.58  ],\n",
              "       [ 12.2013,  77.16  ,  46.73  ,  65.5   ,  44.66  ,  69.5   ],\n",
              "       [  1.2014,  77.5   ,  45.85  ,  66.85  ,  47.73  ,  70.14  ],\n",
              "       [  2.2014,  79.03  ,  49.25  ,  68.38  ,  52.31  ,  70.58  ],\n",
              "       [  3.2014,  80.28  ,  48.14  ,  68.77  ,  56.8   ,  70.78  ],\n",
              "       [  4.2014,  80.05  ,  49.18  ,  69.32  ,  51.15  ,  72.78  ],\n",
              "       [  5.2014,  78.11  ,  49.49  ,  69.77  ,  54.63  ,  72.84  ],\n",
              "       [  6.2014,  76.9   ,  49.83  ,  70.17  ,  55.8   ,  74.74  ],\n",
              "       [  7.2014,  77.68  ,  49.14  ,  70.76  ,  57.31  ,  76.43  ],\n",
              "       [  8.2014,  76.05  ,  63.21  ,  75.16  ,  53.81  ,  81.2   ],\n",
              "       [  9.2014,  75.53  ,  61.2   ,  74.86  ,  55.5   ,  82.04  ],\n",
              "       [ 10.2014,  73.39  ,  60.34  ,  71.47  ,  52.95  ,  79.67  ],\n",
              "       [ 11.2014,  78.36  ,  62.2   ,  76.08  ,  53.29  ,  81.25  ],\n",
              "       [ 12.2014,  89.16  ,  74.2   ,  82.11  ,  54.86  ,  85.88  ],\n",
              "       [  1.2015, 105.43  ,  75.32  ,  94.63  ,  71.72  ,  91.35  ],\n",
              "       [  2.2015, 104.82  ,  75.92  ,  98.54  ,  74.36  , 101.32  ],\n",
              "       [  3.2015, 101.15  ,  72.89  ,  97.84  ,  78.25  , 102.45  ],\n",
              "       [  4.2015,  98.63  ,  74.85  ,  94.54  ,  70.63  ,  98.18  ],\n",
              "       [  5.2015,  99.96  ,  92.19  ,  97.88  ,  77.06  , 105.1   ],\n",
              "       [  6.2015,  97.29  ,  99.7   ,  97.73  ,  81.52  , 104.85  ],\n",
              "       [  7.2015,  98.64  , 102.78  , 100.89  ,  84.12  , 111.48  ],\n",
              "       [  8.2015, 104.26  ,  92.67  , 104.88  ,  83.33  , 118.51  ],\n",
              "       [  9.2015, 102.63  ,  90.63  , 104.39  ,  66.98  , 118.92  ],\n",
              "       [ 10.2015,  98.64  ,  83.31  , 101.9   ,  62.04  , 109.87  ],\n",
              "       [ 11.2015,  97.17  ,  75.5   ,  98.99  ,  59.79  , 105.22  ],\n",
              "       [ 12.2015,  98.09  ,  74.6   ,  99.42  ,  66.06  , 105.45  ],\n",
              "       [  1.2016, 103.07  ,  76.94  , 106.37  ,  71.99  , 115.61  ],\n",
              "       [  2.2016, 110.26  ,  83.04  , 113.89  ,  76.79  , 116.61  ],\n",
              "       [  3.2016, 110.84  ,  80.74  , 114.78  ,  80.98  , 120.39  ],\n",
              "       [  4.2016, 112.28  ,  80.29  , 115.6   ,  89.18  , 119.2   ],\n",
              "       [  5.2016, 111.1   ,  82.82  , 115.89  ,  92.71  , 119.92  ],\n",
              "       [  6.2016, 110.06  ,  86.29  , 117.66  ,  94.85  , 120.57  ],\n",
              "       [  7.2016, 113.7   ,  87.41  , 118.27  ,  99.18  , 123.37  ],\n",
              "       [  8.2016, 112.88  ,  85.1   , 114.19  ,  86.33  , 121.39  ],\n",
              "       [  9.2016, 102.08  ,  78.08  , 101.81  ,  71.94  , 118.16  ],\n",
              "       [ 10.2016,  95.54  ,  76.06  ,  91.62  ,  67.18  , 108.84  ],\n",
              "       [ 11.2016,  91.33  ,  69.23  ,  90.15  ,  62.98  , 100.78  ],\n",
              "       [ 12.2016,  89.99  ,  69.04  ,  90.55  ,  69.45  ,  99.92  ],\n",
              "       [  1.2017,  91.44  ,  64.48  ,  92.3   ,  67.56  , 100.65  ],\n",
              "       [  2.2017,  93.51  ,  65.73  ,  91.75  ,  67.92  ,  98.92  ],\n",
              "       [  3.2017,  93.6   ,  67.2   ,  92.    ,  68.4   , 100.31  ],\n",
              "       [  4.2017,  93.78  ,  70.25  ,  92.57  ,  67.97  ,  96.41  ],\n",
              "       [  5.2017,  98.91  ,  82.59  , 100.28  ,  76.33  , 101.24  ],\n",
              "       [  6.2017, 121.76  ,  92.12  , 114.33  ,  95.79  , 118.7   ],\n",
              "       [  7.2017, 129.6   , 100.82  , 122.17  , 112.36  , 133.29  ],\n",
              "       [  8.2017, 127.9   ,  95.23  , 117.83  ,  82.03  , 130.31  ],\n",
              "       [  9.2017, 114.55  ,  89.51  , 112.49  ,  73.83  , 122.4   ],\n",
              "       [ 10.2017, 101.88  ,  82.84  ,  93.7   ,  66.12  , 104.98  ],\n",
              "       [ 11.2017,  99.09  ,  82.3   ,  97.17  ,  63.24  , 107.54  ],\n",
              "       [ 12.2017, 103.35  ,  83.76  ,  95.64  ,  63.98  , 110.74  ],\n",
              "       [  1.2018, 106.58  ,  84.72  , 102.21  ,  69.1   , 110.51  ],\n",
              "       [  2.2018, 108.    ,  83.91  , 107.58  ,  70.04  , 111.46  ],\n",
              "       [  3.2018, 114.95  ,  99.14  , 110.48  ,  80.03  , 113.42  ],\n",
              "       [  4.2018, 121.17  , 101.6   , 117.73  ,  87.92  , 118.15  ],\n",
              "       [  5.2018, 122.48  , 113.03  , 122.07  ,  97.07  , 114.    ],\n",
              "       [  6.2018, 127.58  , 119.54  , 128.58  , 106.52  , 124.91  ],\n",
              "       [  7.2018, 131.89  , 118.09  , 131.12  , 108.93  , 126.06  ],\n",
              "       [  8.2018, 129.36  , 107.32  , 127.08  ,  95.17  , 123.3   ],\n",
              "       [  9.2018, 104.26  ,  82.6   , 110.99  ,  74.31  , 111.61  ],\n",
              "       [ 10.2018,  93.45  ,  77.4   ,  97.43  ,  62.63  ,  98.82  ],\n",
              "       [ 11.2018,  92.93  ,  71.77  ,  92.05  ,  69.92  ,  97.47  ],\n",
              "       [ 12.2018,  96.15  ,  71.25  ,  93.21  ,  70.58  , 103.01  ],\n",
              "       [  1.2019,  99.1   ,  71.35  ,  98.58  ,  74.63  , 109.36  ],\n",
              "       [  2.2019, 103.    ,  73.62  , 100.23  ,  78.69  , 104.79  ],\n",
              "       [  3.2019, 103.31  ,  76.2   , 102.09  ,  81.82  , 105.09  ],\n",
              "       [  4.2019, 103.01  ,  74.15  , 101.73  ,  82.36  , 103.16  ],\n",
              "       [  5.2019, 107.37  ,  75.67  , 107.28  ,  89.44  , 106.52  ],\n",
              "       [  6.2019, 116.91  ,  79.2   , 115.35  , 102.01  , 121.68  ],\n",
              "       [  7.2019, 125.29  ,  80.85  , 123.03  , 116.12  , 125.32  ],\n",
              "       [  8.2019, 123.94  ,  85.33  , 123.08  ,  92.06  , 123.41  ],\n",
              "       [  9.2019, 113.03  ,  75.02  , 109.71  ,  82.7   , 108.48  ],\n",
              "       [ 10.2019, 102.19  ,  77.95  ,  97.22  ,  66.62  ,  98.73  ],\n",
              "       [ 11.2019,  97.83  ,  78.98  ,  95.75  ,  68.11  ,  96.25  ],\n",
              "       [ 12.2019, 101.07  ,  76.55  ,  97.09  ,  73.48  , 100.12  ],\n",
              "       [  1.202 , 103.44  ,  74.89  ,  98.18  ,  82.04  , 101.29  ],\n",
              "       [  2.202 , 108.23  ,  70.    , 103.1   ,  81.19  , 102.81  ],\n",
              "       [  3.202 , 110.28  ,  81.53  , 110.6   ,  95.05  , 108.53  ]])"
            ]
          },
          "metadata": {},
          "execution_count": 5
        }
      ]
    },
    {
      "cell_type": "markdown",
      "source": [
        "### Visualización y selección"
      ],
      "metadata": {
        "id": "rfQVDIwwYj8M"
      }
    },
    {
      "cell_type": "code",
      "source": [
        "fechas = Datos_Transpuestos[:,0]\n",
        "fechas"
      ],
      "metadata": {
        "id": "kppAHYlBYr1k"
      },
      "execution_count": null,
      "outputs": []
    },
    {
      "cell_type": "markdown",
      "source": [
        "### Tratamiento de Nan"
      ],
      "metadata": {
        "id": "v2XQyElyYMHA"
      }
    },
    {
      "cell_type": "code",
      "source": [
        "np.mean(Kaliningrado)"
      ],
      "metadata": {
        "id": "u3DSF4hwXlQG"
      },
      "execution_count": null,
      "outputs": []
    },
    {
      "cell_type": "markdown",
      "source": [
        "### **Ejercicio propuesto en clase**\n",
        "Un colega te pidió que cargues una base de datos y verifiques el número de filas y columnas del archivo cargado. Tenía dudas sobre si se habían cargado todas las filas.\n",
        "\n",
        "¿Cómo determinar las dimensiones correctas de una matriz?\n",
        "\n",
        "Para responder a esta pregunta, necesitarás acceder al siguiente dataset. Puedes usar la opción skiprows=1 para omitir la primera línea del archivo."
      ],
      "metadata": {
        "id": "pbHE_3ITaK5M"
      }
    },
    {
      "cell_type": "code",
      "source": [
        "url = 'https://raw.githubusercontent.com/allanspadini/numpy/dados/bytebank.csv'\n",
        "import numpy as np\n",
        "datos = np.loadtxt(url, delimiter = ',',skiprows=1, dtype=float)\n",
        "datos.shape"
      ],
      "metadata": {
        "colab": {
          "base_uri": "https://localhost:8080/"
        },
        "id": "7XwS2r5eem25",
        "outputId": "6843bcb2-4017-45f0-a661-c5ecb0d2b37f"
      },
      "execution_count": null,
      "outputs": [
        {
          "output_type": "execute_result",
          "data": {
            "text/plain": [
              "(12, 2)"
            ]
          },
          "metadata": {},
          "execution_count": 7
        }
      ]
    },
    {
      "cell_type": "markdown",
      "source": [
        "### **Nuevo dataset**"
      ],
      "metadata": {
        "id": "SxVQdtIegaeI"
      }
    },
    {
      "cell_type": "code",
      "source": [
        "url = 'https://gist.githubusercontent.com/ahcamachod/9be09de793dc3bf1e6c3d98eb4e5b1ef/raw/21b85572693200040e11284ef6dcfc3457ec8e11/citrus.csv'\n",
        "import numpy as np\n",
        "np.loadtxt(url, delimiter = ',', usecols = np.arange(1, 6, 1), skiprows = 1 )\n"
      ],
      "metadata": {
        "colab": {
          "base_uri": "https://localhost:8080/"
        },
        "id": "nKBgCI_0gVai",
        "outputId": "c51d9bf8-8368-4d2d-cc56-de37d259ec2d"
      },
      "execution_count": null,
      "outputs": [
        {
          "output_type": "execute_result",
          "data": {
            "text/plain": [
              "array([[  2.96,  86.76, 172.  ,  85.  ,   2.  ],\n",
              "       [  3.91,  88.05, 166.  ,  78.  ,   3.  ],\n",
              "       [  4.42,  95.17, 156.  ,  81.  ,   2.  ],\n",
              "       ...,\n",
              "       [ 15.59, 256.5 , 168.  ,  82.  ,  20.  ],\n",
              "       [ 15.92, 260.14, 142.  ,  72.  ,  11.  ],\n",
              "       [ 16.45, 261.51, 152.  ,  74.  ,   2.  ]])"
            ]
          },
          "metadata": {},
          "execution_count": 13
        }
      ]
    }
  ],
  "metadata": {
    "colab": {
      "provenance": [],
      "collapsed_sections": [
        "50K6E5CvZS6I",
        "pbHE_3ITaK5M",
        "SxVQdtIegaeI"
      ],
      "authorship_tag": "ABX9TyNEDntfaAWHFh+DQN65chEF",
      "include_colab_link": true
    },
    "kernelspec": {
      "display_name": "Python 3",
      "name": "python3"
    },
    "language_info": {
      "name": "python"
    }
  },
  "nbformat": 4,
  "nbformat_minor": 0
}