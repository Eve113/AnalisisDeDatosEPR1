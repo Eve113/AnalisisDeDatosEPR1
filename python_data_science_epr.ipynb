{
  "cells": [
    {
      "cell_type": "markdown",
      "metadata": {
        "id": "view-in-github",
        "colab_type": "text"
      },
      "source": [
        "<a href=\"https://colab.research.google.com/github/Eve113/AnalisisDeDatosEPR1/blob/main/python_data_science_epr.ipynb\" target=\"_parent\"><img src=\"https://colab.research.google.com/assets/colab-badge.svg\" alt=\"Open In Colab\"/></a>"
      ]
    },
    {
      "cell_type": "markdown",
      "metadata": {
        "id": "iTItqS4Ngo52"
      },
      "source": [
        "# **Python para Data Science**\n",
        "A continuación se podrá observar algunos desafíos hechos en el aula de alura del curso *Python Data Science Primeros Pasos*"
      ]
    },
    {
      "cell_type": "markdown",
      "source": [
        "## **Primeros** **Pasos**"
      ],
      "metadata": {
        "id": "50K6E5CvZS6I"
      }
    },
    {
      "cell_type": "markdown",
      "metadata": {
        "id": "IO15Xv_wtaqs"
      },
      "source": [
        "Imprime la frase \"Escuela de Datos de Alura\""
      ]
    },
    {
      "cell_type": "code",
      "execution_count": null,
      "metadata": {
        "id": "tGUwjEykhMen",
        "colab": {
          "base_uri": "https://localhost:8080/"
        },
        "outputId": "ad6dbd06-c38b-4bf0-bd74-d8b652412fbc"
      },
      "outputs": [
        {
          "output_type": "stream",
          "name": "stdout",
          "text": [
            "Escuela de Datos de Alura\n"
          ]
        }
      ],
      "source": [
        "print(\"Escuela de Datos de Alura\")"
      ]
    },
    {
      "cell_type": "markdown",
      "metadata": {
        "id": "EKdpL64rcIQw"
      },
      "source": [
        "Imprime tu nombre y apellido"
      ]
    },
    {
      "cell_type": "code",
      "execution_count": null,
      "metadata": {
        "id": "xwEJFjXHhWYs",
        "colab": {
          "base_uri": "https://localhost:8080/"
        },
        "outputId": "f5e1b699-6041-4e5c-b4e5-2f079bde7f05"
      },
      "outputs": [
        {
          "output_type": "stream",
          "name": "stdout",
          "text": [
            "Nombre:Evelyn\n",
            "Apellido: Pareja Ríos\n"
          ]
        }
      ],
      "source": [
        "nombre = \"Evelyn\"\n",
        "Apellido = \"Pareja Ríos\"\n",
        "print(f'Nombre:{nombre}\\nApellido: {Apellido}')"
      ]
    },
    {
      "cell_type": "markdown",
      "metadata": {
        "id": "xv8U1K8AuFoT"
      },
      "source": [
        "Imprime tu primer nombre letra por letra. Por ejemplo, si mi nombre es Álvaro, la salida sería:\n",
        "\n",
        "Á\n",
        "L\n",
        "V\n",
        "A\n",
        "R\n",
        "O"
      ]
    },
    {
      "cell_type": "code",
      "execution_count": null,
      "metadata": {
        "id": "DBOKARZji_Sk",
        "colab": {
          "base_uri": "https://localhost:8080/",
          "height": 425
        },
        "outputId": "a2f7491d-2ed2-4c31-c95c-5811206382cb"
      },
      "outputs": [
        {
          "output_type": "error",
          "ename": "KeyboardInterrupt",
          "evalue": "Interrupted by user",
          "traceback": [
            "\u001b[0;31m---------------------------------------------------------------------------\u001b[0m",
            "\u001b[0;31mKeyboardInterrupt\u001b[0m                         Traceback (most recent call last)",
            "\u001b[0;32m<ipython-input-38-3118166357>\u001b[0m in \u001b[0;36m<cell line: 0>\u001b[0;34m()\u001b[0m\n\u001b[0;32m----> 1\u001b[0;31m \u001b[0mnombre\u001b[0m \u001b[0;34m=\u001b[0m \u001b[0minput\u001b[0m\u001b[0;34m(\u001b[0m\u001b[0;34m\"Ingrese su nombre:\"\u001b[0m\u001b[0;34m)\u001b[0m\u001b[0;34m\u001b[0m\u001b[0;34m\u001b[0m\u001b[0m\n\u001b[0m\u001b[1;32m      2\u001b[0m \u001b[0;32mfor\u001b[0m \u001b[0mchar\u001b[0m \u001b[0;32min\u001b[0m \u001b[0mnombre\u001b[0m\u001b[0;34m:\u001b[0m\u001b[0;34m\u001b[0m\u001b[0;34m\u001b[0m\u001b[0m\n\u001b[1;32m      3\u001b[0m   \u001b[0mprint\u001b[0m\u001b[0;34m(\u001b[0m\u001b[0mchar\u001b[0m\u001b[0;34m)\u001b[0m\u001b[0;34m\u001b[0m\u001b[0;34m\u001b[0m\u001b[0m\n",
            "\u001b[0;32m/usr/local/lib/python3.11/dist-packages/ipykernel/kernelbase.py\u001b[0m in \u001b[0;36mraw_input\u001b[0;34m(self, prompt)\u001b[0m\n\u001b[1;32m   1175\u001b[0m                 \u001b[0;34m\"raw_input was called, but this frontend does not support input requests.\"\u001b[0m\u001b[0;34m\u001b[0m\u001b[0;34m\u001b[0m\u001b[0m\n\u001b[1;32m   1176\u001b[0m             )\n\u001b[0;32m-> 1177\u001b[0;31m         return self._input_request(\n\u001b[0m\u001b[1;32m   1178\u001b[0m             \u001b[0mstr\u001b[0m\u001b[0;34m(\u001b[0m\u001b[0mprompt\u001b[0m\u001b[0;34m)\u001b[0m\u001b[0;34m,\u001b[0m\u001b[0;34m\u001b[0m\u001b[0;34m\u001b[0m\u001b[0m\n\u001b[1;32m   1179\u001b[0m             \u001b[0mself\u001b[0m\u001b[0;34m.\u001b[0m\u001b[0m_parent_ident\u001b[0m\u001b[0;34m[\u001b[0m\u001b[0;34m\"shell\"\u001b[0m\u001b[0;34m]\u001b[0m\u001b[0;34m,\u001b[0m\u001b[0;34m\u001b[0m\u001b[0;34m\u001b[0m\u001b[0m\n",
            "\u001b[0;32m/usr/local/lib/python3.11/dist-packages/ipykernel/kernelbase.py\u001b[0m in \u001b[0;36m_input_request\u001b[0;34m(self, prompt, ident, parent, password)\u001b[0m\n\u001b[1;32m   1217\u001b[0m             \u001b[0;32mexcept\u001b[0m \u001b[0mKeyboardInterrupt\u001b[0m\u001b[0;34m:\u001b[0m\u001b[0;34m\u001b[0m\u001b[0;34m\u001b[0m\u001b[0m\n\u001b[1;32m   1218\u001b[0m                 \u001b[0;31m# re-raise KeyboardInterrupt, to truncate traceback\u001b[0m\u001b[0;34m\u001b[0m\u001b[0;34m\u001b[0m\u001b[0m\n\u001b[0;32m-> 1219\u001b[0;31m                 \u001b[0;32mraise\u001b[0m \u001b[0mKeyboardInterrupt\u001b[0m\u001b[0;34m(\u001b[0m\u001b[0;34m\"Interrupted by user\"\u001b[0m\u001b[0;34m)\u001b[0m \u001b[0;32mfrom\u001b[0m \u001b[0;32mNone\u001b[0m\u001b[0;34m\u001b[0m\u001b[0;34m\u001b[0m\u001b[0m\n\u001b[0m\u001b[1;32m   1220\u001b[0m             \u001b[0;32mexcept\u001b[0m \u001b[0mException\u001b[0m\u001b[0;34m:\u001b[0m\u001b[0;34m\u001b[0m\u001b[0;34m\u001b[0m\u001b[0m\n\u001b[1;32m   1221\u001b[0m                 \u001b[0mself\u001b[0m\u001b[0;34m.\u001b[0m\u001b[0mlog\u001b[0m\u001b[0;34m.\u001b[0m\u001b[0mwarning\u001b[0m\u001b[0;34m(\u001b[0m\u001b[0;34m\"Invalid Message:\"\u001b[0m\u001b[0;34m,\u001b[0m \u001b[0mexc_info\u001b[0m\u001b[0;34m=\u001b[0m\u001b[0;32mTrue\u001b[0m\u001b[0;34m)\u001b[0m\u001b[0;34m\u001b[0m\u001b[0;34m\u001b[0m\u001b[0m\n",
            "\u001b[0;31mKeyboardInterrupt\u001b[0m: Interrupted by user"
          ]
        }
      ],
      "source": [
        "nombre = input(\"Ingrese su nombre:\")\n",
        "for char in nombre:\n",
        "  print(char)"
      ]
    },
    {
      "cell_type": "markdown",
      "metadata": {
        "id": "BPtJJIgauORL"
      },
      "source": [
        "Imprime tu fecha de nacimiento en formato día mes año. Recuerda que los valores de día y año no deben estar entre comillas. Suponiendo una fecha de cumpleaños el 28 de febrero de 2003, el formato debe ser como el siguiente:\n",
        "\n",
        "28 febrero 2003"
      ]
    },
    {
      "cell_type": "code",
      "execution_count": null,
      "metadata": {
        "id": "V0crC8qjkkG_"
      },
      "outputs": [],
      "source": [
        "from datetime import datetime\n",
        "\n",
        "nombre = input(\"Ingrese su nombre:\")\n",
        "Nacimiento = input(\"Ingrese su fecha de nacimiento en formato DD/MM/AAAA:\")\n",
        "\n",
        "try:\n",
        "  fecha_nac = datetime.strptime(Nacimiento, \"%d/%m/%Y\")\n",
        "#Condicional para validar si la fecha ingresada es valida\n",
        "  if fecha_nac > datetime.now():\n",
        "    print(\"La fecha no puede ser en el futuro\")\n",
        "  else:\n",
        "    dia = fecha_nac.strftime(\"%A\")\n",
        "# Traducir días y meses al español\n",
        "    if dia == \"Monday\":\n",
        "      dia = \"Lunes\"\n",
        "    if dia == \"Tuesday\":\n",
        "      dia = \"Martes\"\n",
        "    if dia == \"Wednesday\":\n",
        "      dia = \"Miércoles\"\n",
        "    if dia == \"Thursday\":\n",
        "      dia = \"Jueves\"\n",
        "    if dia == \"Friday\":\n",
        "      dia = \"Viernes\"\n",
        "    if dia == \"Saturday\":\n",
        "      dia = \"Sábado\"\n",
        "    if dia == \"Sunday\":\n",
        "      dia = \"Domingo\"\n",
        "    if fecha_nac.month == 1:\n",
        "      mes = \"enero\"\n",
        "    if fecha_nac.month == 2:\n",
        "      mes = \"febrero\"\n",
        "    if fecha_nac.month == 3:\n",
        "      mes = \"marzo\"\n",
        "    if fecha_nac.month == 4:\n",
        "      mes = \"abril\"\n",
        "    if fecha_nac.month == 5:\n",
        "      mes = \"mayo\"\n",
        "    if fecha_nac.month == 6:\n",
        "      mes = \"junio\"\n",
        "    if fecha_nac.month == 7:\n",
        "      mes = \"julio\"\n",
        "    if fecha_nac.month == 8:\n",
        "      mes = \"agosto\"\n",
        "    if fecha_nac.month == 9:\n",
        "      mes = \"septiembre\"\n",
        "    if fecha_nac.month == 10:\n",
        "      mes = \"octubre\"\n",
        "    if fecha_nac.month == 11:\n",
        "      mes = \"noviembre\"\n",
        "    if fecha_nac.month == 12:\n",
        "      mes = \"diciembre\"\n",
        "  print(f'Hola {nombre}, tu naciste el {fecha_nac.strftime(f\"%d de {mes} de %Y un día {dia}\")}')\n",
        "\n",
        "#Condicional para validar si el formato de la fecha es valido\n",
        "except ValueError:\n",
        "  print(\"Formato de fecha incorrecto. Intente nuevamente.\")"
      ]
    },
    {
      "cell_type": "markdown",
      "metadata": {
        "id": "RPO6mla-p9TJ"
      },
      "source": [
        "En una empresa de venta de bienes raíces, debes crear un código que analice los datos de ventas anuales para ayudar a la dirección en la toma de decisiones. El código debe recopilar los datos de cantidad de ventas durante los años 2022 y 2023 y calcular la variación porcentual. A partir del valor de la variación, se deben proporcionar las siguientes sugerencias:\n",
        "\n",
        "Para una variación superior al 20%: bonificación para el equipo de ventas.\n",
        "Para una variación entre el 2% y el 20%: pequeña bonificación para el equipo de ventas.\n",
        "Para una variación entre el 2% y el -10%: planificación de políticas de incentivo a las ventas.\n",
        "Para bonificaciones inferiores al -10%: recorte de gastos."
      ]
    },
    {
      "cell_type": "code",
      "execution_count": null,
      "metadata": {
        "id": "D7G-ub2qKElX"
      },
      "outputs": [],
      "source": [
        "año_nuevo= int(input('Ingrese la cantidad de ventas del año actual:'))\n",
        "año_viejo = int(input('Ingrese la cantidad de ventas del año pasado:'))\n",
        "\n",
        "if año_viejo == 0:\n",
        "  print(\"Las ventas aumentaron respecto al año anterior, en el cual no se registraron ingresos, por lo tanto no se calcula la variación porcentual.\")\n",
        "else:\n",
        "  variacion = ((año_nuevo - año_viejo)/año_viejo)*100\n",
        "  if variacion > 20:\n",
        "    print('Se le dará una bonificación al equipo de ventas')\n",
        "  elif variacion >= 2 and variacion <= 20:\n",
        "    print('Se le dará una pequeña bonificación para el equipo de ventas')\n",
        "  elif variacion >= -10 and variacion < 2:\n",
        "    print('Se hará una planificación de políticas de incentivo a las ventas')\n",
        "  else:\n",
        "    print('Se hará un recorte de gastos')"
      ]
    },
    {
      "cell_type": "markdown",
      "metadata": {
        "id": "uJtSICYHTb8M"
      },
      "source": [
        "En una elección para la gerencia de una empresa con 20 empleados, hay cuatro candidatos. Escribe un programa que calcule al ganador de la elección. La votación se realizó de la siguiente manera:\n",
        "\n",
        "Cada empleado votó por uno de los cuatro candidatos (representados por los números 1, 2, 3 y 4).\n",
        "\n",
        "También se contaron los votos nulos (representados por el número 5) y los votos en blanco (representados por el número 6).\n",
        "\n",
        "Al final de la votación, el programa debe mostrar el número total de votos para cada candidato, los votos nulos y los votos en blanco. Además, debe calcular y mostrar el porcentaje de votos nulos con respecto al total de votos y el porcentaje de votos en blanco con respecto al total de votos."
      ]
    },
    {
      "cell_type": "code",
      "execution_count": null,
      "metadata": {
        "id": "e8vqGfZrTatQ"
      },
      "outputs": [],
      "source": [
        "candidato1 = 0\n",
        "candidato2 = 0\n",
        "candidato3 = 0\n",
        "candidato4 = 0\n",
        "nulos = 0\n",
        "blanco = 0\n",
        "for i in range(0, 20):\n",
        "    voto = int(input('Ingresa tu voto: '))\n",
        "    if voto == 1:\n",
        "        candidato1 += 1\n",
        "    elif voto == 2:\n",
        "        candidato2 += 1\n",
        "    elif voto == 3:\n",
        "        candidato3 += 1\n",
        "    elif voto == 4:\n",
        "        candidato4 += 1\n",
        "    elif voto == 6:\n",
        "        blanco += 1\n",
        "    else:\n",
        "        nulos += 1\n",
        "        print(\"Voto anulado debido a que se marco un numero distinto de 1,2,3,4 y 6\")\n",
        "\n",
        "\n",
        "print(f'Votos candidato 1: {candidato1}')\n",
        "print(f'Votos candidato 2: {candidato2}')\n",
        "print(f'Votos candidato 3: {candidato3}')\n",
        "print(f'Votos candidato 4: {candidato4}')\n",
        "print(f'Votos nulos: {nulos}')\n",
        "print(f'Votos en blanco: {blanco}')\n",
        "print(f'Porcentaje de votos nulos: {(nulos / 20 * 100)}')\n",
        "print(f'Porcentaje de votos en blanco: {(blanco / 20 * 100)}')"
      ]
    },
    {
      "cell_type": "markdown",
      "source": [
        "Escribe un código que lee la lista siguiente y realiza:"
      ],
      "metadata": {
        "id": "O6Ph6ZLMYSJA"
      }
    },
    {
      "cell_type": "code",
      "execution_count": null,
      "metadata": {
        "id": "qd92R07JJoR7"
      },
      "outputs": [],
      "source": [
        "lista = [16, 14, 63, 65, 17, 99, 70, 11, 20, 48, 79, 32, 17, 89, 12, 25, 66]\n",
        "# 1. Leer el tamaño de la lista\n",
        "# 2. Leer el valor máximo y mínimo\n",
        "# 3. Calcular la suma de los valores de la lista\n",
        "# 4. Mostrar un mensaje al final: La lista tiene `tamano` números, donde el mayor\n",
        "# es `mayor` y el menor es `menor`. La suma de los valores es `suma`.\n",
        "\n",
        "\n",
        "tamaño = len(lista)\n",
        "mayor = max(lista)\n",
        "menor = min(lista)\n",
        "suma = sum(lista)\n",
        "\n",
        "print(f'La lista tiene {tamaño} números, donde el mayor es {mayor} y el menor es {menor}. La suma de los valores es {suma}.')"
      ]
    },
    {
      "cell_type": "markdown",
      "source": [
        "Escribe una función que genere la tabla de multiplicar de un número entero del 1 al 10, según la elección del usuario. Como ejemplo, para el número 7, la tabla de multiplicar se debe mostrar en el siguiente formato:"
      ],
      "metadata": {
        "id": "kE0nL9-5YZPT"
      }
    },
    {
      "cell_type": "code",
      "source": [
        "import math\n",
        "\n",
        "def tabla(numero):\n",
        "  for i in range(1,11):\n",
        "    if numero <= 10:\n",
        "      print(f'{numero} x {i} = {numero * i}')\n",
        "    else:\n",
        "      print(\"El número ingresado es mayor a 10\")\n",
        "      break\n",
        "\n",
        "numero = int(input('ingrese un número:'))\n",
        "tabla(numero)\n"
      ],
      "metadata": {
        "id": "GvDi6hwmYexl"
      },
      "execution_count": null,
      "outputs": []
    },
    {
      "cell_type": "markdown",
      "source": [
        "Crea una función que lea la siguiente lista y devuelva una nueva lista con los múltiplos de 3:"
      ],
      "metadata": {
        "id": "VjHx9J0ueCLV"
      }
    },
    {
      "cell_type": "code",
      "source": [
        "import math\n",
        "\n",
        "def multiplos(lista):\n",
        "  lista_nv = []\n",
        "  for i in lista:\n",
        "    if i % 3 == 0:\n",
        "      lista_nv.append(i)\n",
        "  return lista_nv\n",
        "\n",
        "lista = [97, 80, 94, 88, 80, 1, 16, 53, 62, 32, 24, 99]\n",
        "multiplos(lista)\n",
        "\n"
      ],
      "metadata": {
        "id": "SknahaQMeDe1"
      },
      "execution_count": null,
      "outputs": []
    },
    {
      "cell_type": "markdown",
      "source": [
        "Crea una lista de los cuadrados de los números de la siguiente lista [1, 2, 3, 4, 5, 6, 7, 8, 9, 10]. Recuerda utilizar las funciones lambda y map() para calcular el cuadrado de cada elemento de la lista"
      ],
      "metadata": {
        "id": "Er7AxDM4i-5x"
      }
    },
    {
      "cell_type": "code",
      "source": [
        "lista = [1, 2, 3, 4, 5, 6, 7, 8, 9, 10]\n",
        "cuadrados = map(lambda x: x**2, lista)\n",
        "print(list(cuadrados))"
      ],
      "metadata": {
        "id": "Mk7xHNGZi8qN"
      },
      "execution_count": null,
      "outputs": []
    },
    {
      "cell_type": "markdown",
      "source": [
        "Has sido contratado como científica de datos de una asociación de skate. Para analizar las notas recibidas por los skaters en algunas competiciones a lo largo del año, necesitas crear un código que calcule la puntuación de los atletas. Para ello, tu código debe recibir 5 notas ingresadas por los jueces"
      ],
      "metadata": {
        "id": "bqkThYf_jwdh"
      }
    },
    {
      "cell_type": "code",
      "source": [
        "lista = []\n",
        "jueces = int(input('Ingrese la cantidad de jueces:'))\n",
        "n = jueces + 1\n",
        "for i in range(1,n):\n",
        "  nota = float(input('Ingrese la calificación del jurado:'))\n",
        "  lista.append(nota)\n",
        "puntuación = sum(lista) - min(lista) - max(lista)\n",
        "print(f'La puntuación del competidor es: {puntuación},\\nBaja el número {max(lista)} y el número {min(lista)}')\n"
      ],
      "metadata": {
        "id": "esibbBpQj2ql"
      },
      "execution_count": null,
      "outputs": []
    },
    {
      "cell_type": "markdown",
      "source": [
        "Para cumplir con una demanda de una institución educativa para el análisis del rendimiento de sus estudiantes, necesitas crear una función que reciba una lista de 4 notas y devuelva:"
      ],
      "metadata": {
        "id": "7o4tsA-RnX8Q"
      }
    },
    {
      "cell_type": "code",
      "source": [
        "import numpy as np\n",
        "from statistics import mean\n",
        "\n",
        "def estudiante(lista):\n",
        "  for i in range(1,5):\n",
        "    nota = float(input('Ingrese una nota:'))\n",
        "    lista.append(nota)\n",
        "  if sum(lista) / len(lista) >= 3:\n",
        "    situación = 'aprobado'\n",
        "  else:\n",
        "    situación = 'reprobado'\n",
        "  print(f'La mayor nota del curso fue de {max(lista)}, la menor nota fue de {min(lista)}, la media es de {mean(lista)}, la situación del estudiante es de {situación}')\n",
        "\n",
        "lista = []\n",
        "estudiante(lista)"
      ],
      "metadata": {
        "id": "pWX88jjxnZJf"
      },
      "execution_count": null,
      "outputs": []
    },
    {
      "cell_type": "markdown",
      "source": [
        "## **Manipulación y análisis con NumPy y Pandas**\n"
      ],
      "metadata": {
        "id": "JTa8MqrcZnS2"
      }
    },
    {
      "cell_type": "markdown",
      "source": [
        "### **Primera practica en clase**"
      ],
      "metadata": {
        "id": "55McCw4Iam9X"
      }
    },
    {
      "cell_type": "markdown",
      "source": [
        "Cargar la Dataset del enlace https://gist.githubusercontent.com/ahcamachod/41b8a65c5e5b58125401deafb68af460/raw/f84320f69efa1cc3e86e1db054422cfa4869c63e/manzanas.csv"
      ],
      "metadata": {
        "id": "abl2ov8Eava9"
      }
    },
    {
      "cell_type": "code",
      "source": [
        "import numpy as np\n",
        "url = 'https://gist.githubusercontent.com/ahcamachod/41b8a65c5e5b58125401deafb68af460/raw/f84320f69efa1cc3e86e1db054422cfa4869c63e/manzanas.csv'\n",
        "datos = np.loadtxt(url,delimiter=',', usecols= np.arange(1,88,1))"
      ],
      "metadata": {
        "id": "jkI_oLlkbFMw"
      },
      "execution_count": null,
      "outputs": []
    },
    {
      "cell_type": "code",
      "source": [
        "# Cantidad de dimenciones del Array\n",
        "datos.ndim"
      ],
      "metadata": {
        "colab": {
          "base_uri": "https://localhost:8080/"
        },
        "id": "CrsBbn_bdfb8",
        "outputId": "a003d81c-4329-45fd-e935-a9a2d1bbf835"
      },
      "execution_count": null,
      "outputs": [
        {
          "output_type": "execute_result",
          "data": {
            "text/plain": [
              "2"
            ]
          },
          "metadata": {},
          "execution_count": 40
        }
      ]
    },
    {
      "cell_type": "code",
      "source": [
        "# Forma del Array\n",
        "datos.shape"
      ],
      "metadata": {
        "colab": {
          "base_uri": "https://localhost:8080/"
        },
        "id": "jkUCE8qHdlkP",
        "outputId": "02f02bff-2002-47ec-a154-c718823f6754"
      },
      "execution_count": null,
      "outputs": [
        {
          "output_type": "execute_result",
          "data": {
            "text/plain": [
              "(6, 87)"
            ]
          },
          "metadata": {},
          "execution_count": 41
        }
      ]
    },
    {
      "cell_type": "code",
      "source": [
        "# Convertir las columnas en filas y las filas en columnas\n",
        "Datos_Transpuestos = datos.T"
      ],
      "metadata": {
        "id": "xpOAYLXhd2Mq"
      },
      "execution_count": null,
      "outputs": []
    },
    {
      "cell_type": "markdown",
      "source": [
        "### Visualización y selección"
      ],
      "metadata": {
        "id": "rfQVDIwwYj8M"
      }
    },
    {
      "cell_type": "code",
      "source": [
        "fechas = Datos_Transpuestos[:,0]\n",
        "fechas"
      ],
      "metadata": {
        "id": "kppAHYlBYr1k",
        "colab": {
          "base_uri": "https://localhost:8080/"
        },
        "outputId": "1526401f-c24c-40f3-83f2-8a1989fdc7d4"
      },
      "execution_count": null,
      "outputs": [
        {
          "output_type": "execute_result",
          "data": {
            "text/plain": [
              "array([ 1.2013,  2.2013,  3.2013,  4.2013,  5.2013,  6.2013,  7.2013,\n",
              "        8.2013,  9.2013, 10.2013, 11.2013, 12.2013,  1.2014,  2.2014,\n",
              "        3.2014,  4.2014,  5.2014,  6.2014,  7.2014,  8.2014,  9.2014,\n",
              "       10.2014, 11.2014, 12.2014,  1.2015,  2.2015,  3.2015,  4.2015,\n",
              "        5.2015,  6.2015,  7.2015,  8.2015,  9.2015, 10.2015, 11.2015,\n",
              "       12.2015,  1.2016,  2.2016,  3.2016,  4.2016,  5.2016,  6.2016,\n",
              "        7.2016,  8.2016,  9.2016, 10.2016, 11.2016, 12.2016,  1.2017,\n",
              "        2.2017,  3.2017,  4.2017,  5.2017,  6.2017,  7.2017,  8.2017,\n",
              "        9.2017, 10.2017, 11.2017, 12.2017,  1.2018,  2.2018,  3.2018,\n",
              "        4.2018,  5.2018,  6.2018,  7.2018,  8.2018,  9.2018, 10.2018,\n",
              "       11.2018, 12.2018,  1.2019,  2.2019,  3.2019,  4.2019,  5.2019,\n",
              "        6.2019,  7.2019,  8.2019,  9.2019, 10.2019, 11.2019, 12.2019,\n",
              "        1.202 ,  2.202 ,  3.202 ])"
            ]
          },
          "metadata": {},
          "execution_count": 43
        }
      ]
    },
    {
      "cell_type": "code",
      "source": [
        "fechas = Datos_Transpuestos[:,0]\n",
        "fechas"
      ],
      "metadata": {
        "colab": {
          "base_uri": "https://localhost:8080/"
        },
        "id": "Ycj1TYecfREd",
        "outputId": "ada3164d-e7b9-4189-e01f-052485299447"
      },
      "execution_count": null,
      "outputs": [
        {
          "output_type": "execute_result",
          "data": {
            "text/plain": [
              "array([ 1.2013,  2.2013,  3.2013,  4.2013,  5.2013,  6.2013,  7.2013,\n",
              "        8.2013,  9.2013, 10.2013, 11.2013, 12.2013,  1.2014,  2.2014,\n",
              "        3.2014,  4.2014,  5.2014,  6.2014,  7.2014,  8.2014,  9.2014,\n",
              "       10.2014, 11.2014, 12.2014,  1.2015,  2.2015,  3.2015,  4.2015,\n",
              "        5.2015,  6.2015,  7.2015,  8.2015,  9.2015, 10.2015, 11.2015,\n",
              "       12.2015,  1.2016,  2.2016,  3.2016,  4.2016,  5.2016,  6.2016,\n",
              "        7.2016,  8.2016,  9.2016, 10.2016, 11.2016, 12.2016,  1.2017,\n",
              "        2.2017,  3.2017,  4.2017,  5.2017,  6.2017,  7.2017,  8.2017,\n",
              "        9.2017, 10.2017, 11.2017, 12.2017,  1.2018,  2.2018,  3.2018,\n",
              "        4.2018,  5.2018,  6.2018,  7.2018,  8.2018,  9.2018, 10.2018,\n",
              "       11.2018, 12.2018,  1.2019,  2.2019,  3.2019,  4.2019,  5.2019,\n",
              "        6.2019,  7.2019,  8.2019,  9.2019, 10.2019, 11.2019, 12.2019,\n",
              "        1.202 ,  2.202 ,  3.202 ])"
            ]
          },
          "metadata": {},
          "execution_count": 44
        }
      ]
    },
    {
      "cell_type": "code",
      "source": [
        "precios = Datos_Transpuestos[:,1:6]\n",
        "precios"
      ],
      "metadata": {
        "colab": {
          "base_uri": "https://localhost:8080/"
        },
        "id": "5px0Xfkzfp0e",
        "outputId": "563bf3bc-6e05-4287-a1b1-e847006f1c80"
      },
      "execution_count": null,
      "outputs": [
        {
          "output_type": "execute_result",
          "data": {
            "text/plain": [
              "array([[ 79.72,  42.67,  62.55,  48.26,  71.25],\n",
              "       [ 81.08,  44.37,  62.73,  51.01,  71.35],\n",
              "       [ 79.68,  44.73,  63.43,  50.91,  70.9 ],\n",
              "       [ 79.8 ,  46.75,  63.83,  53.94,  71.92],\n",
              "       [ 80.63,    nan,  66.06,  61.27,  72.91],\n",
              "       [ 80.8 ,  51.59,  69.22,  65.44,  74.39],\n",
              "       [ 80.28,  57.8 ,  72.07,  56.51,  73.1 ],\n",
              "       [ 78.99,  62.14,  69.31,  53.  ,  70.24],\n",
              "       [ 76.77,  56.76,  65.18,  43.87,  69.12],\n",
              "       [ 76.09,  50.85,  62.13,  42.12,  68.98],\n",
              "       [ 76.36,  46.43,  64.17,  43.98,  68.58],\n",
              "       [ 77.16,  46.73,  65.5 ,  44.66,  69.5 ],\n",
              "       [ 77.5 ,  45.85,  66.85,  47.73,  70.14],\n",
              "       [ 79.03,  49.25,  68.38,  52.31,  70.58],\n",
              "       [ 80.28,  48.14,  68.77,  56.8 ,  70.78],\n",
              "       [ 80.05,  49.18,  69.32,  51.15,  72.78],\n",
              "       [ 78.11,  49.49,  69.77,  54.63,  72.84],\n",
              "       [ 76.9 ,  49.83,  70.17,  55.8 ,  74.74],\n",
              "       [ 77.68,  49.14,  70.76,  57.31,  76.43],\n",
              "       [ 76.05,  63.21,  75.16,  53.81,  81.2 ],\n",
              "       [ 75.53,  61.2 ,  74.86,  55.5 ,  82.04],\n",
              "       [ 73.39,  60.34,  71.47,  52.95,  79.67],\n",
              "       [ 78.36,  62.2 ,  76.08,  53.29,  81.25],\n",
              "       [ 89.16,  74.2 ,  82.11,  54.86,  85.88],\n",
              "       [105.43,  75.32,  94.63,  71.72,  91.35],\n",
              "       [104.82,  75.92,  98.54,  74.36, 101.32],\n",
              "       [101.15,  72.89,  97.84,  78.25, 102.45],\n",
              "       [ 98.63,  74.85,  94.54,  70.63,  98.18],\n",
              "       [ 99.96,  92.19,  97.88,  77.06, 105.1 ],\n",
              "       [ 97.29,  99.7 ,  97.73,  81.52, 104.85],\n",
              "       [ 98.64, 102.78, 100.89,  84.12, 111.48],\n",
              "       [104.26,  92.67, 104.88,  83.33, 118.51],\n",
              "       [102.63,  90.63, 104.39,  66.98, 118.92],\n",
              "       [ 98.64,  83.31, 101.9 ,  62.04, 109.87],\n",
              "       [ 97.17,  75.5 ,  98.99,  59.79, 105.22],\n",
              "       [ 98.09,  74.6 ,  99.42,  66.06, 105.45],\n",
              "       [103.07,  76.94, 106.37,  71.99, 115.61],\n",
              "       [110.26,  83.04, 113.89,  76.79, 116.61],\n",
              "       [110.84,  80.74, 114.78,  80.98, 120.39],\n",
              "       [112.28,  80.29, 115.6 ,  89.18, 119.2 ],\n",
              "       [111.1 ,  82.82, 115.89,  92.71, 119.92],\n",
              "       [110.06,  86.29, 117.66,  94.85, 120.57],\n",
              "       [113.7 ,  87.41, 118.27,  99.18, 123.37],\n",
              "       [112.88,  85.1 , 114.19,  86.33, 121.39],\n",
              "       [102.08,  78.08, 101.81,  71.94, 118.16],\n",
              "       [ 95.54,  76.06,  91.62,  67.18, 108.84],\n",
              "       [ 91.33,  69.23,  90.15,  62.98, 100.78],\n",
              "       [ 89.99,  69.04,  90.55,  69.45,  99.92],\n",
              "       [ 91.44,  64.48,  92.3 ,  67.56, 100.65],\n",
              "       [ 93.51,  65.73,  91.75,  67.92,  98.92],\n",
              "       [ 93.6 ,  67.2 ,  92.  ,  68.4 , 100.31],\n",
              "       [ 93.78,  70.25,  92.57,  67.97,  96.41],\n",
              "       [ 98.91,  82.59, 100.28,  76.33, 101.24],\n",
              "       [121.76,  92.12, 114.33,  95.79, 118.7 ],\n",
              "       [129.6 , 100.82, 122.17, 112.36, 133.29],\n",
              "       [127.9 ,  95.23, 117.83,  82.03, 130.31],\n",
              "       [114.55,  89.51, 112.49,  73.83, 122.4 ],\n",
              "       [101.88,  82.84,  93.7 ,  66.12, 104.98],\n",
              "       [ 99.09,  82.3 ,  97.17,  63.24, 107.54],\n",
              "       [103.35,  83.76,  95.64,  63.98, 110.74],\n",
              "       [106.58,  84.72, 102.21,  69.1 , 110.51],\n",
              "       [108.  ,  83.91, 107.58,  70.04, 111.46],\n",
              "       [114.95,  99.14, 110.48,  80.03, 113.42],\n",
              "       [121.17, 101.6 , 117.73,  87.92, 118.15],\n",
              "       [122.48, 113.03, 122.07,  97.07, 114.  ],\n",
              "       [127.58, 119.54, 128.58, 106.52, 124.91],\n",
              "       [131.89, 118.09, 131.12, 108.93, 126.06],\n",
              "       [129.36, 107.32, 127.08,  95.17, 123.3 ],\n",
              "       [104.26,  82.6 , 110.99,  74.31, 111.61],\n",
              "       [ 93.45,  77.4 ,  97.43,  62.63,  98.82],\n",
              "       [ 92.93,  71.77,  92.05,  69.92,  97.47],\n",
              "       [ 96.15,  71.25,  93.21,  70.58, 103.01],\n",
              "       [ 99.1 ,  71.35,  98.58,  74.63, 109.36],\n",
              "       [103.  ,  73.62, 100.23,  78.69, 104.79],\n",
              "       [103.31,  76.2 , 102.09,  81.82, 105.09],\n",
              "       [103.01,  74.15, 101.73,  82.36, 103.16],\n",
              "       [107.37,  75.67, 107.28,  89.44, 106.52],\n",
              "       [116.91,  79.2 , 115.35, 102.01, 121.68],\n",
              "       [125.29,  80.85, 123.03, 116.12, 125.32],\n",
              "       [123.94,  85.33, 123.08,  92.06, 123.41],\n",
              "       [113.03,  75.02, 109.71,  82.7 , 108.48],\n",
              "       [102.19,  77.95,  97.22,  66.62,  98.73],\n",
              "       [ 97.83,  78.98,  95.75,  68.11,  96.25],\n",
              "       [101.07,  76.55,  97.09,  73.48, 100.12],\n",
              "       [103.44,  74.89,  98.18,  82.04, 101.29],\n",
              "       [108.23,  70.  , 103.1 ,  81.19, 102.81],\n",
              "       [110.28,  81.53, 110.6 ,  95.05, 108.53]])"
            ]
          },
          "metadata": {},
          "execution_count": 45
        }
      ]
    },
    {
      "cell_type": "code",
      "source": [
        "fechas = np.arange(1, 88, 1)"
      ],
      "metadata": {
        "id": "N_penZFwhmsR"
      },
      "execution_count": null,
      "outputs": []
    },
    {
      "cell_type": "code",
      "source": [
        "import matplotlib.pyplot as plt\n",
        "plt.plot(fechas, precios[:, 0])"
      ],
      "metadata": {
        "colab": {
          "base_uri": "https://localhost:8080/"
        },
        "id": "fdOCfkQThxFR",
        "outputId": "3172f3fb-9477-4fe4-e07d-6227b1b57304"
      },
      "execution_count": null,
      "outputs": [
        {
          "output_type": "execute_result",
          "data": {
            "text/plain": [
              "[<matplotlib.lines.Line2D at 0x7bc84050d450>]"
            ]
          },
          "metadata": {},
          "execution_count": 47
        },
        {
          "output_type": "display_data",
          "data": {
            "text/plain": [
              "<Figure size 640x480 with 1 Axes>"
            ],
            "image/png": "[encoded data removed]"
          },
          "metadata": {}
        }
      ]
    },
    {
      "cell_type": "code",
      "source": [
        "import matplotlib.pyplot as plt\n",
        "Moscu = precios[:, 0]\n",
        "Kaliningrado = precios[:,1]\n",
        "Petersburgo = precios[:,2]\n",
        "Krasnodar = precios[:,3]\n",
        "Ekaterimburgo = precios[:,4]\n",
        "\n",
        "#plt.plot(fechas, Kaliningrado)\n",
        "#plt.plot(fechas, Petersburgo)\n",
        "#plt.plot(fechas, Krasnodar)\n",
        "#plt.plot(fechas, Ekaterimburgo)\n"
      ],
      "metadata": {
        "id": "OAbSGkN_fpu9"
      },
      "execution_count": null,
      "outputs": []
    },
    {
      "cell_type": "markdown",
      "source": [
        "### Tratamiento de Nan"
      ],
      "metadata": {
        "id": "v2XQyElyYMHA"
      }
    },
    {
      "cell_type": "code",
      "source": [
        "np.mean(Kaliningrado)"
      ],
      "metadata": {
        "id": "u3DSF4hwXlQG",
        "colab": {
          "base_uri": "https://localhost:8080/"
        },
        "outputId": "a980b61e-1c17-4125-f3e2-1b2623350668"
      },
      "execution_count": null,
      "outputs": [
        {
          "output_type": "execute_result",
          "data": {
            "text/plain": [
              "np.float64(nan)"
            ]
          },
          "metadata": {},
          "execution_count": 49
        }
      ]
    },
    {
      "cell_type": "code",
      "source": [
        "plt.plot(fechas,Kaliningrado)"
      ],
      "metadata": {
        "colab": {
          "base_uri": "https://localhost:8080/"
        },
        "id": "mt2uro6ve-98",
        "outputId": "8a7b182f-6d7a-4e04-9ddb-5f53abdfde01"
      },
      "execution_count": null,
      "outputs": [
        {
          "output_type": "execute_result",
          "data": {
            "text/plain": [
              "[<matplotlib.lines.Line2D at 0x7bc8400d27d0>]"
            ]
          },
          "metadata": {},
          "execution_count": 50
        },
        {
          "output_type": "display_data",
          "data": {
            "text/plain": [
              "<Figure size 640x480 with 1 Axes>"
            ],
            "image/png": "[encoded data removed]"
          },
          "metadata": {}
        }
      ]
    },
    {
      "cell_type": "code",
      "source": [
        "np.isnan(Kaliningrado)"
      ],
      "metadata": {
        "colab": {
          "base_uri": "https://localhost:8080/"
        },
        "id": "TZuZ84m-j6Zi",
        "outputId": "eac71894-9cc3-4833-f186-5b98be0dcfd2"
      },
      "execution_count": null,
      "outputs": [
        {
          "output_type": "execute_result",
          "data": {
            "text/plain": [
              "array([False, False, False, False,  True, False, False, False, False,\n",
              "       False, False, False, False, False, False, False, False, False,\n",
              "       False, False, False, False, False, False, False, False, False,\n",
              "       False, False, False, False, False, False, False, False, False,\n",
              "       False, False, False, False, False, False, False, False, False,\n",
              "       False, False, False, False, False, False, False, False, False,\n",
              "       False, False, False, False, False, False, False, False, False,\n",
              "       False, False, False, False, False, False, False, False, False,\n",
              "       False, False, False, False, False, False, False, False, False,\n",
              "       False, False, False, False, False, False])"
            ]
          },
          "metadata": {},
          "execution_count": 51
        }
      ]
    },
    {
      "cell_type": "code",
      "source": [
        "np.sum(np.isnan(Kaliningrado))"
      ],
      "metadata": {
        "colab": {
          "base_uri": "https://localhost:8080/"
        },
        "id": "lOgiLNVvkARr",
        "outputId": "91819c1b-2ca8-4529-cd55-0e608d6b64fb"
      },
      "execution_count": null,
      "outputs": [
        {
          "output_type": "execute_result",
          "data": {
            "text/plain": [
              "np.int64(1)"
            ]
          },
          "metadata": {},
          "execution_count": 52
        }
      ]
    },
    {
      "cell_type": "code",
      "source": [
        "Kaliningrado[4] = (Kaliningrado[3]+Kaliningrado[5])/2"
      ],
      "metadata": {
        "id": "4bn9ux2AkEzW"
      },
      "execution_count": null,
      "outputs": []
    },
    {
      "cell_type": "code",
      "source": [
        "np.sum(np.isnan(Kaliningrado))"
      ],
      "metadata": {
        "colab": {
          "base_uri": "https://localhost:8080/"
        },
        "id": "D3Uz9cwQkZC1",
        "outputId": "fc585928-8a39-48c1-eb22-6195af93b769"
      },
      "execution_count": null,
      "outputs": [
        {
          "output_type": "execute_result",
          "data": {
            "text/plain": [
              "np.int64(0)"
            ]
          },
          "metadata": {},
          "execution_count": 54
        }
      ]
    },
    {
      "cell_type": "code",
      "source": [
        "plt.plot(fechas,Kaliningrado)"
      ],
      "metadata": {
        "colab": {
          "base_uri": "https://localhost:8080/"
        },
        "id": "C8lzBm5ZkovF",
        "outputId": "02eaba9c-b40b-4975-ea3e-fbbc6cd7a8b7"
      },
      "execution_count": null,
      "outputs": [
        {
          "output_type": "execute_result",
          "data": {
            "text/plain": [
              "[<matplotlib.lines.Line2D at 0x7bc84015c9d0>]"
            ]
          },
          "metadata": {},
          "execution_count": 55
        },
        {
          "output_type": "display_data",
          "data": {
            "text/plain": [
              "<Figure size 640x480 with 1 Axes>"
            ],
            "image/png": "[encoded data removed]"
          },
          "metadata": {}
        }
      ]
    },
    {
      "cell_type": "code",
      "source": [
        "np.mean(Kaliningrado)"
      ],
      "metadata": {
        "colab": {
          "base_uri": "https://localhost:8080/"
        },
        "id": "Fcz-yJ1Nkw-f",
        "outputId": "1d547a36-8c03-4896-dac2-f8f6546baba3"
      },
      "execution_count": null,
      "outputs": [
        {
          "output_type": "execute_result",
          "data": {
            "text/plain": [
              "np.float64(74.5506896551724)"
            ]
          },
          "metadata": {},
          "execution_count": 56
        }
      ]
    },
    {
      "cell_type": "markdown",
      "source": [
        "### Diferencia Entre Arrays"
      ],
      "metadata": {
        "id": "rOAnk3X3dHf9"
      }
    },
    {
      "cell_type": "code",
      "source": [
        "plt.plot(fechas, Moscu)\n"
      ],
      "metadata": {
        "id": "G_xB6QWddJc5",
        "outputId": "022f494f-2e60-4463-b027-60ef6bbdf81f",
        "colab": {
          "base_uri": "https://localhost:8080/"
        }
      },
      "execution_count": null,
      "outputs": [
        {
          "output_type": "execute_result",
          "data": {
            "text/plain": [
              "[<matplotlib.lines.Line2D at 0x7bc84052d710>]"
            ]
          },
          "metadata": {},
          "execution_count": 57
        },
        {
          "output_type": "display_data",
          "data": {
            "text/plain": [
              "<Figure size 640x480 with 1 Axes>"
            ],
            "image/png": "[encoded data removed]"
          },
          "metadata": {}
        }
      ]
    },
    {
      "cell_type": "markdown",
      "source": [
        "**ax + b**"
      ],
      "metadata": {
        "id": "b-HHivLYoxM0"
      }
    },
    {
      "cell_type": "code",
      "source": [
        "x = fechas\n",
        "y = 0.5 * x + 78"
      ],
      "metadata": {
        "id": "sM11t7Lco3ef"
      },
      "execution_count": null,
      "outputs": []
    },
    {
      "cell_type": "code",
      "source": [
        "plt.plot(fechas, Moscu)\n",
        "plt.plot(x,y)"
      ],
      "metadata": {
        "colab": {
          "base_uri": "https://localhost:8080/"
        },
        "id": "DHLxbPQkpMBO",
        "outputId": "5ae2f55d-b9a4-458d-e2a7-0aebbc88b919"
      },
      "execution_count": null,
      "outputs": [
        {
          "output_type": "execute_result",
          "data": {
            "text/plain": [
              "[<matplotlib.lines.Line2D at 0x7bc82c708a10>]"
            ]
          },
          "metadata": {},
          "execution_count": 59
        },
        {
          "output_type": "display_data",
          "data": {
            "text/plain": [
              "<Figure size 640x480 with 1 Axes>"
            ],
            "image/png": "[encoded data removed]"
          },
          "metadata": {}
        }
      ]
    },
    {
      "cell_type": "code",
      "source": [
        "np.sqrt(np.sum(np.power(Moscu - y, 2)))"
      ],
      "metadata": {
        "colab": {
          "base_uri": "https://localhost:8080/"
        },
        "id": "v5Ua27UEpTyg",
        "outputId": "004ffd18-76ed-4c4e-8abd-c582ea4e0897"
      },
      "execution_count": null,
      "outputs": [
        {
          "output_type": "execute_result",
          "data": {
            "text/plain": [
              "np.float64(103.53131941591394)"
            ]
          },
          "metadata": {},
          "execution_count": 60
        }
      ]
    },
    {
      "cell_type": "code",
      "source": [
        "np.linalg.norm(Moscu - y)"
      ],
      "metadata": {
        "colab": {
          "base_uri": "https://localhost:8080/"
        },
        "id": "yf9Rk7i7phBM",
        "outputId": "3df4ba4f-4456-45d4-b20c-e329ef344c0a"
      },
      "execution_count": null,
      "outputs": [
        {
          "output_type": "execute_result",
          "data": {
            "text/plain": [
              "np.float64(103.53131941591394)"
            ]
          },
          "metadata": {},
          "execution_count": 61
        }
      ]
    },
    {
      "cell_type": "code",
      "source": [
        "n = np.size(Moscu)\n",
        "y = Moscu\n",
        "x = fechas"
      ],
      "metadata": {
        "id": "D37DzSijptIO"
      },
      "execution_count": null,
      "outputs": []
    },
    {
      "cell_type": "code",
      "source": [
        "a = (n*np.sum(x*y)-np.sum(x)*np.sum(y))/(n*np.sum(x**2)-np.sum(x)**2)\n",
        "b = np.mean(y)-a*np.mean(x)"
      ],
      "metadata": {
        "id": "2uWcIeaTqTkP"
      },
      "execution_count": null,
      "outputs": []
    },
    {
      "cell_type": "code",
      "source": [
        "print(f'La pendiente es {a}\\nLa intersección es {b}')"
      ],
      "metadata": {
        "id": "m_fgyE3UrIt4",
        "outputId": "55b6e3b4-e282-47e9-f4cc-1ed042d322c3",
        "colab": {
          "base_uri": "https://localhost:8080/"
        }
      },
      "execution_count": null,
      "outputs": [
        {
          "output_type": "stream",
          "name": "stdout",
          "text": [
            "La pendiente es 0.43520212145512926\n",
            "La intersección es 79.64892274792834\n"
          ]
        }
      ]
    },
    {
      "cell_type": "code",
      "source": [
        "y = a*x + b\n",
        "y"
      ],
      "metadata": {
        "id": "5uKruYiwrhcq",
        "outputId": "dcea5823-a7a5-4635-9113-ee755db285c1",
        "colab": {
          "base_uri": "https://localhost:8080/"
        }
      },
      "execution_count": null,
      "outputs": [
        {
          "output_type": "execute_result",
          "data": {
            "text/plain": [
              "array([ 80.08412487,  80.51932699,  80.95452911,  81.38973123,\n",
              "        81.82493336,  82.26013548,  82.6953376 ,  83.13053972,\n",
              "        83.56574184,  84.00094396,  84.43614608,  84.87134821,\n",
              "        85.30655033,  85.74175245,  86.17695457,  86.61215669,\n",
              "        87.04735881,  87.48256093,  87.91776306,  88.35296518,\n",
              "        88.7881673 ,  89.22336942,  89.65857154,  90.09377366,\n",
              "        90.52897578,  90.96417791,  91.39938003,  91.83458215,\n",
              "        92.26978427,  92.70498639,  93.14018851,  93.57539063,\n",
              "        94.01059276,  94.44579488,  94.880997  ,  95.31619912,\n",
              "        95.75140124,  96.18660336,  96.62180548,  97.05700761,\n",
              "        97.49220973,  97.92741185,  98.36261397,  98.79781609,\n",
              "        99.23301821,  99.66822033, 100.10342246, 100.53862458,\n",
              "       100.9738267 , 101.40902882, 101.84423094, 102.27943306,\n",
              "       102.71463519, 103.14983731, 103.58503943, 104.02024155,\n",
              "       104.45544367, 104.89064579, 105.32584791, 105.76105004,\n",
              "       106.19625216, 106.63145428, 107.0666564 , 107.50185852,\n",
              "       107.93706064, 108.37226276, 108.80746489, 109.24266701,\n",
              "       109.67786913, 110.11307125, 110.54827337, 110.98347549,\n",
              "       111.41867761, 111.85387974, 112.28908186, 112.72428398,\n",
              "       113.1594861 , 113.59468822, 114.02989034, 114.46509246,\n",
              "       114.90029459, 115.33549671, 115.77069883, 116.20590095,\n",
              "       116.64110307, 117.07630519, 117.51150731])"
            ]
          },
          "metadata": {},
          "execution_count": 65
        }
      ]
    },
    {
      "cell_type": "markdown",
      "source": [
        "### Valores Aleatorios"
      ],
      "metadata": {
        "id": "dDjcMObuzSov"
      }
    },
    {
      "cell_type": "code",
      "source": [
        "# Entero\n",
        "\n",
        "np.random.randint(40, 100, 100)"
      ],
      "metadata": {
        "colab": {
          "base_uri": "https://localhost:8080/"
        },
        "id": "j0CvXnpBzY9W",
        "outputId": "4884af9f-5290-4f1e-813c-90f10fcecd5e"
      },
      "execution_count": null,
      "outputs": [
        {
          "output_type": "execute_result",
          "data": {
            "text/plain": [
              "array([41, 63, 75, 95, 89, 41, 88, 69, 99, 78, 83, 92, 63, 42, 40, 52, 80,\n",
              "       48, 60, 97, 99, 79, 55, 98, 87, 67, 77, 86, 76, 84, 97, 57, 49, 72,\n",
              "       61, 87, 81, 75, 59, 62, 66, 90, 99, 45, 52, 72, 93, 67, 41, 84, 51,\n",
              "       90, 51, 69, 71, 89, 81, 99, 73, 52, 53, 52, 75, 64, 80, 49, 90, 97,\n",
              "       80, 51, 40, 63, 51, 75, 90, 88, 78, 88, 42, 99, 82, 59, 58, 80, 67,\n",
              "       98, 75, 85, 93, 69, 61, 81, 84, 76, 73, 85, 69, 71, 51, 70])"
            ]
          },
          "metadata": {},
          "execution_count": 66
        }
      ]
    },
    {
      "cell_type": "code",
      "source": [
        "# Decimal\n",
        "\n",
        "np.random.uniform(0.1, 0.9, 100)"
      ],
      "metadata": {
        "colab": {
          "base_uri": "https://localhost:8080/"
        },
        "id": "BtaZdtsSztgY",
        "outputId": "a30807f3-c8cc-4314-f139-4746d6963bf6"
      },
      "execution_count": null,
      "outputs": [
        {
          "output_type": "execute_result",
          "data": {
            "text/plain": [
              "array([0.50673461, 0.33615396, 0.32283627, 0.87643432, 0.23036877,\n",
              "       0.7280469 , 0.65513121, 0.59124015, 0.57489612, 0.16047839,\n",
              "       0.77782803, 0.84163721, 0.70687805, 0.82363421, 0.67303931,\n",
              "       0.66449477, 0.14050707, 0.21715293, 0.12612907, 0.19426485,\n",
              "       0.55815685, 0.19367341, 0.44105225, 0.74862589, 0.67804544,\n",
              "       0.41714518, 0.282166  , 0.48307622, 0.53184497, 0.28898396,\n",
              "       0.55098052, 0.33384601, 0.47274593, 0.74864752, 0.76036791,\n",
              "       0.57130348, 0.67120267, 0.2756168 , 0.22205528, 0.35945443,\n",
              "       0.30548321, 0.29683949, 0.66949484, 0.11753637, 0.51731684,\n",
              "       0.74502167, 0.46579457, 0.43083769, 0.87946708, 0.5935745 ,\n",
              "       0.80864661, 0.51151989, 0.14430504, 0.86373541, 0.67344369,\n",
              "       0.45096647, 0.1603848 , 0.31514578, 0.72348077, 0.53722374,\n",
              "       0.66007141, 0.79404583, 0.70966431, 0.15758899, 0.20805911,\n",
              "       0.32686372, 0.7933171 , 0.25488786, 0.11979613, 0.49569037,\n",
              "       0.39538933, 0.56748034, 0.34436689, 0.55448977, 0.8870675 ,\n",
              "       0.85066784, 0.18743107, 0.62275189, 0.54002787, 0.61769304,\n",
              "       0.39824669, 0.35045652, 0.68668625, 0.58000686, 0.1129205 ,\n",
              "       0.1697144 , 0.66133938, 0.89890727, 0.41126034, 0.73769968,\n",
              "       0.33457288, 0.47205166, 0.46905307, 0.72355885, 0.8992377 ,\n",
              "       0.87285968, 0.58135286, 0.71462652, 0.2653912 , 0.80901051])"
            ]
          },
          "metadata": {},
          "execution_count": 67
        }
      ]
    },
    {
      "cell_type": "code",
      "source": [
        "pendientes = np.random.uniform(0.1, 0.9, 100)"
      ],
      "metadata": {
        "id": "BTu9kuc-z91p"
      },
      "execution_count": null,
      "outputs": []
    },
    {
      "cell_type": "code",
      "source": [
        "for i in range(100):\n",
        "  print(np.linalg.norm(Moscu - (pendientes[i]*x + b)))"
      ],
      "metadata": {
        "colab": {
          "base_uri": "https://localhost:8080/"
        },
        "id": "7xpXL7tk0Icu",
        "outputId": "4b39f645-97f2-45b1-dc26-50d5c5df6cb5"
      },
      "execution_count": null,
      "outputs": [
        {
          "output_type": "stream",
          "name": "stdout",
          "text": [
            "101.80875629226527\n",
            "127.30451234034047\n",
            "198.77201015235616\n",
            "152.32204608801183\n",
            "181.91677874806393\n",
            "150.89536286673052\n",
            "160.95646790413534\n",
            "102.3252820971132\n",
            "102.13768826454246\n",
            "101.87959277504494\n",
            "116.57607865020067\n",
            "112.52521212239662\n",
            "155.40983403043947\n",
            "185.36276580140535\n",
            "145.3834842793201\n",
            "107.46874149997606\n",
            "227.98729300707956\n",
            "189.21517954550816\n",
            "129.17673861503295\n",
            "200.41012071252052\n",
            "105.34842113726552\n",
            "185.67244272038886\n",
            "147.20912239645085\n",
            "135.40962072039733\n",
            "142.34949427199908\n",
            "105.5625878521386\n",
            "112.40725229044129\n",
            "208.46538403543695\n",
            "118.03746605852203\n",
            "142.9278534527182\n",
            "142.10585834440022\n",
            "185.7942090011415\n",
            "173.54005927119047\n",
            "154.90117000831629\n",
            "131.71347714273315\n",
            "140.21364770584748\n",
            "117.5773731945779\n",
            "158.69689614212723\n",
            "118.12689825105768\n",
            "127.37838426930645\n",
            "157.83685774045958\n",
            "163.04128527022982\n",
            "158.28341865238394\n",
            "121.84880385231806\n",
            "164.63944427083885\n",
            "182.36337405304735\n",
            "110.03277289520867\n",
            "164.58435212944238\n",
            "119.30772487129387\n",
            "190.31511682664288\n",
            "144.66822003059372\n",
            "165.5705722385701\n",
            "105.37304830741105\n",
            "116.00057752226459\n",
            "207.21585817466544\n",
            "240.3762041206766\n",
            "164.11779267865654\n",
            "177.52734054326106\n",
            "164.59676080447002\n",
            "241.78118698895418\n",
            "140.3642828037722\n",
            "118.23731183388006\n",
            "140.75016035370678\n",
            "112.87368746900573\n",
            "237.3234161273176\n",
            "105.438543734564\n",
            "168.06011344010201\n",
            "160.08511077288992\n",
            "125.6136743853189\n",
            "140.31034800003943\n",
            "177.565316272973\n",
            "212.3096477697393\n",
            "107.7514325009491\n",
            "144.8667821671181\n",
            "125.2960686533668\n",
            "128.54680114819578\n",
            "106.76165191477021\n",
            "151.79260390401822\n",
            "101.99216614490378\n",
            "115.82560633937639\n",
            "182.67713258072757\n",
            "105.13453475213468\n",
            "109.92345298383152\n",
            "202.20283886230936\n",
            "211.56046456108442\n",
            "123.86647686369916\n",
            "235.96557432050048\n",
            "184.1601050496128\n",
            "229.4399476748557\n",
            "194.5508798999326\n",
            "135.17784466518444\n",
            "194.54750350958787\n",
            "109.70040415586755\n",
            "157.57432696086266\n",
            "122.7081996736347\n",
            "106.49716427145854\n",
            "157.23396087761813\n",
            "208.92872969556964\n",
            "109.83139531346758\n",
            "102.02062613110623\n"
          ]
        }
      ]
    },
    {
      "cell_type": "code",
      "source": [
        "norma = np.array([])\n",
        "for i in range(100):\n",
        " norma = np.append(norma, np.linalg.norm(Moscu - (pendientes[i]*x + b)))\n",
        "\n",
        "norma"
      ],
      "metadata": {
        "colab": {
          "base_uri": "https://localhost:8080/"
        },
        "id": "ZSpDjchR1gIQ",
        "outputId": "a09117a1-1a55-48c3-cc81-b52f6e907289"
      },
      "execution_count": null,
      "outputs": [
        {
          "output_type": "execute_result",
          "data": {
            "text/plain": [
              "array([101.80875629, 127.30451234, 198.77201015, 152.32204609,\n",
              "       181.91677875, 150.89536287, 160.9564679 , 102.3252821 ,\n",
              "       102.13768826, 101.87959278, 116.57607865, 112.52521212,\n",
              "       155.40983403, 185.3627658 , 145.38348428, 107.4687415 ,\n",
              "       227.98729301, 189.21517955, 129.17673862, 200.41012071,\n",
              "       105.34842114, 185.67244272, 147.2091224 , 135.40962072,\n",
              "       142.34949427, 105.56258785, 112.40725229, 208.46538404,\n",
              "       118.03746606, 142.92785345, 142.10585834, 185.794209  ,\n",
              "       173.54005927, 154.90117001, 131.71347714, 140.21364771,\n",
              "       117.57737319, 158.69689614, 118.12689825, 127.37838427,\n",
              "       157.83685774, 163.04128527, 158.28341865, 121.84880385,\n",
              "       164.63944427, 182.36337405, 110.0327729 , 164.58435213,\n",
              "       119.30772487, 190.31511683, 144.66822003, 165.57057224,\n",
              "       105.37304831, 116.00057752, 207.21585817, 240.37620412,\n",
              "       164.11779268, 177.52734054, 164.5967608 , 241.78118699,\n",
              "       140.3642828 , 118.23731183, 140.75016035, 112.87368747,\n",
              "       237.32341613, 105.43854373, 168.06011344, 160.08511077,\n",
              "       125.61367439, 140.310348  , 177.56531627, 212.30964777,\n",
              "       107.7514325 , 144.86678217, 125.29606865, 128.54680115,\n",
              "       106.76165191, 151.7926039 , 101.99216614, 115.82560634,\n",
              "       182.67713258, 105.13453475, 109.92345298, 202.20283886,\n",
              "       211.56046456, 123.86647686, 235.96557432, 184.16010505,\n",
              "       229.43994767, 194.5508799 , 135.17784467, 194.54750351,\n",
              "       109.70040416, 157.57432696, 122.70819967, 106.49716427,\n",
              "       157.23396088, 208.9287297 , 109.83139531, 102.02062613])"
            ]
          },
          "metadata": {},
          "execution_count": 70
        }
      ]
    },
    {
      "cell_type": "code",
      "source": [
        "np.random.seed(99)\n",
        "np.random.uniform(0.1, 0.9, 5)"
      ],
      "metadata": {
        "colab": {
          "base_uri": "https://localhost:8080/"
        },
        "id": "bUXbkXUySGek",
        "outputId": "5c167dd6-3a04-4fab-ece7-a83774eb6467"
      },
      "execution_count": null,
      "outputs": [
        {
          "output_type": "execute_result",
          "data": {
            "text/plain": [
              "array([0.63782285, 0.49046272, 0.76039614, 0.12515711, 0.74643997])"
            ]
          },
          "metadata": {},
          "execution_count": 71
        }
      ]
    },
    {
      "cell_type": "code",
      "source": [
        "np.random.seed(99)\n",
        "\n",
        "norma = np.array([])\n",
        "for i in range(100):\n",
        "  norma = np.append(norma, np.linalg.norm(Moscu - (pendientes[i]*x + b)))\n",
        "\n",
        "norma"
      ],
      "metadata": {
        "colab": {
          "base_uri": "https://localhost:8080/"
        },
        "id": "KI-bni3gSw-z",
        "outputId": "c259a965-a21d-4e40-d206-1b220ea0997c"
      },
      "execution_count": null,
      "outputs": [
        {
          "output_type": "execute_result",
          "data": {
            "text/plain": [
              "array([101.80875629, 127.30451234, 198.77201015, 152.32204609,\n",
              "       181.91677875, 150.89536287, 160.9564679 , 102.3252821 ,\n",
              "       102.13768826, 101.87959278, 116.57607865, 112.52521212,\n",
              "       155.40983403, 185.3627658 , 145.38348428, 107.4687415 ,\n",
              "       227.98729301, 189.21517955, 129.17673862, 200.41012071,\n",
              "       105.34842114, 185.67244272, 147.2091224 , 135.40962072,\n",
              "       142.34949427, 105.56258785, 112.40725229, 208.46538404,\n",
              "       118.03746606, 142.92785345, 142.10585834, 185.794209  ,\n",
              "       173.54005927, 154.90117001, 131.71347714, 140.21364771,\n",
              "       117.57737319, 158.69689614, 118.12689825, 127.37838427,\n",
              "       157.83685774, 163.04128527, 158.28341865, 121.84880385,\n",
              "       164.63944427, 182.36337405, 110.0327729 , 164.58435213,\n",
              "       119.30772487, 190.31511683, 144.66822003, 165.57057224,\n",
              "       105.37304831, 116.00057752, 207.21585817, 240.37620412,\n",
              "       164.11779268, 177.52734054, 164.5967608 , 241.78118699,\n",
              "       140.3642828 , 118.23731183, 140.75016035, 112.87368747,\n",
              "       237.32341613, 105.43854373, 168.06011344, 160.08511077,\n",
              "       125.61367439, 140.310348  , 177.56531627, 212.30964777,\n",
              "       107.7514325 , 144.86678217, 125.29606865, 128.54680115,\n",
              "       106.76165191, 151.7926039 , 101.99216614, 115.82560634,\n",
              "       182.67713258, 105.13453475, 109.92345298, 202.20283886,\n",
              "       211.56046456, 123.86647686, 235.96557432, 184.16010505,\n",
              "       229.43994767, 194.5508799 , 135.17784467, 194.54750351,\n",
              "       109.70040416, 157.57432696, 122.70819967, 106.49716427,\n",
              "       157.23396088, 208.9287297 , 109.83139531, 102.02062613])"
            ]
          },
          "metadata": {},
          "execution_count": 76
        }
      ]
    },
    {
      "cell_type": "code",
      "source": [
        "datos = np.column_stack([norma,pendientes])\n",
        "datos"
      ],
      "metadata": {
        "id": "3KxtrzYZTMa9",
        "outputId": "f98de5b5-228e-417d-87f5-68e61f80605c",
        "colab": {
          "base_uri": "https://localhost:8080/"
        }
      },
      "execution_count": null,
      "outputs": [
        {
          "output_type": "execute_result",
          "data": {
            "text/plain": [
              "array([[1.01808756e+02, 4.38482574e-01],\n",
              "       [1.27304512e+02, 2.73429875e-01],\n",
              "       [1.98772010e+02, 7.96493606e-01],\n",
              "       [1.52322046e+02, 1.95413945e-01],\n",
              "       [1.81916779e+02, 7.54257311e-01],\n",
              "       [1.50895363e+02, 1.99488128e-01],\n",
              "       [1.60956468e+02, 1.71361217e-01],\n",
              "       [1.02325282e+02, 4.57178324e-01],\n",
              "       [1.02137688e+02, 4.17561696e-01],\n",
              "       [1.01879593e+02, 4.43884088e-01],\n",
              "       [1.16576079e+02, 3.14981354e-01],\n",
              "       [1.12525212e+02, 3.33728353e-01],\n",
              "       [1.55409834e+02, 1.86699245e-01],\n",
              "       [1.85362766e+02, 1.07384936e-01],\n",
              "       [1.45383484e+02, 6.54855980e-01],\n",
              "       [1.07468741e+02, 5.08108350e-01],\n",
              "       [2.27987293e+02, 8.66903709e-01],\n",
              "       [1.89215180e+02, 7.72731967e-01],\n",
              "       [1.29176739e+02, 2.66914601e-01],\n",
              "       [2.00410121e+02, 8.00523767e-01],\n",
              "       [1.05348421e+02, 4.92600174e-01],\n",
              "       [1.85672443e+02, 1.06601047e-01],\n",
              "       [1.47209122e+02, 2.10168852e-01],\n",
              "       [1.35409621e+02, 6.24162384e-01],\n",
              "       [1.42349494e+02, 2.24635332e-01],\n",
              "       [1.05562588e+02, 4.94336045e-01],\n",
              "       [1.12407252e+02, 5.36088709e-01],\n",
              "       [2.08465384e+02, 8.20182079e-01],\n",
              "       [1.18037466e+02, 5.61647611e-01],\n",
              "       [1.42927853e+02, 6.47516174e-01],\n",
              "       [1.42105858e+02, 2.25373591e-01],\n",
              "       [1.85794209e+02, 1.06292973e-01],\n",
              "       [1.73540059e+02, 1.37776743e-01],\n",
              "       [1.54901170e+02, 6.82278648e-01],\n",
              "       [1.31713477e+02, 2.58327982e-01],\n",
              "       [1.40213648e+02, 6.39250349e-01],\n",
              "       [1.17577373e+02, 5.59713146e-01],\n",
              "       [1.58696896e+02, 1.77563903e-01],\n",
              "       [1.18126898e+02, 5.62021072e-01],\n",
              "       [1.27378384e+02, 2.73169675e-01],\n",
              "       [1.57836858e+02, 6.90463408e-01],\n",
              "       [1.63041285e+02, 1.65689609e-01],\n",
              "       [1.58283419e+02, 6.91698729e-01],\n",
              "       [1.21848804e+02, 5.76916264e-01],\n",
              "       [1.64639444e+02, 7.09030912e-01],\n",
              "       [1.82363374e+02, 1.15007233e-01],\n",
              "       [1.10032773e+02, 3.46812253e-01],\n",
              "       [1.64584352e+02, 7.08882558e-01],\n",
              "       [1.19307725e+02, 5.66878307e-01],\n",
              "       [1.90315117e+02, 7.75490084e-01],\n",
              "       [1.44668220e+02, 6.52730826e-01],\n",
              "       [1.65570572e+02, 1.58870557e-01],\n",
              "       [1.05373048e+02, 3.77601979e-01],\n",
              "       [1.16000578e+02, 3.17500704e-01],\n",
              "       [2.07215858e+02, 8.17149145e-01],\n",
              "       [2.40376204e+02, 8.96018293e-01],\n",
              "       [1.64117793e+02, 1.62779295e-01],\n",
              "       [1.77527341e+02, 7.42985442e-01],\n",
              "       [1.64596761e+02, 7.08915975e-01],\n",
              "       [2.41781187e+02, 8.99298268e-01],\n",
              "       [1.40364283e+02, 2.30690623e-01],\n",
              "       [1.18237312e+02, 3.07923216e-01],\n",
              "       [1.40750160e+02, 2.29506380e-01],\n",
              "       [1.12873687e+02, 5.38394546e-01],\n",
              "       [2.37323416e+02, 8.88876892e-01],\n",
              "       [1.05438544e+02, 4.93336525e-01],\n",
              "       [1.68060113e+02, 7.18183988e-01],\n",
              "       [1.60085111e+02, 6.96658161e-01],\n",
              "       [1.25613674e+02, 5.90942776e-01],\n",
              "       [1.40310348e+02, 2.30856433e-01],\n",
              "       [1.77565316e+02, 1.27320713e-01],\n",
              "       [2.12309648e+02, 8.29478041e-01],\n",
              "       [1.07751433e+02, 3.60450664e-01],\n",
              "       [1.44866782e+02, 2.17082437e-01],\n",
              "       [1.25296069e+02, 5.89792793e-01],\n",
              "       [1.28546801e+02, 6.01315462e-01],\n",
              "       [1.06761652e+02, 5.03297260e-01],\n",
              "       [1.51792604e+02, 1.96922210e-01],\n",
              "       [1.01992166e+02, 4.48549610e-01],\n",
              "       [1.15825606e+02, 5.52129328e-01],\n",
              "       [1.82677133e+02, 7.56196957e-01],\n",
              "       [1.05134535e+02, 4.90816210e-01],\n",
              "       [1.09923453e+02, 3.47423503e-01],\n",
              "       [2.02202839e+02, 8.04921204e-01],\n",
              "       [2.11560465e+02, 8.27670457e-01],\n",
              "       [1.23866477e+02, 2.85859867e-01],\n",
              "       [2.35965574e+02, 8.85693879e-01],\n",
              "       [1.84160105e+02, 7.59969594e-01],\n",
              "       [2.29439948e+02, 8.70336589e-01],\n",
              "       [1.94550880e+02, 7.86053080e-01],\n",
              "       [1.35177845e+02, 6.23417749e-01],\n",
              "       [1.94547504e+02, 7.86044696e-01],\n",
              "       [1.09700404e+02, 3.48682129e-01],\n",
              "       [1.57574327e+02, 6.89736009e-01],\n",
              "       [1.22708200e+02, 2.90205211e-01],\n",
              "       [1.06497164e+02, 3.68987670e-01],\n",
              "       [1.57233961e+02, 6.88791655e-01],\n",
              "       [2.08928730e+02, 8.21305291e-01],\n",
              "       [1.09831395e+02, 5.22463165e-01],\n",
              "       [1.02020626e+02, 4.20913761e-01]])"
            ]
          },
          "metadata": {},
          "execution_count": 78
        }
      ]
    },
    {
      "cell_type": "code",
      "source": [
        "datos.shape"
      ],
      "metadata": {
        "id": "LkkHZF5NT-nN",
        "outputId": "40dbe839-43db-43c9-b3e5-a1d94fb89eec",
        "colab": {
          "base_uri": "https://localhost:8080/"
        }
      },
      "execution_count": null,
      "outputs": [
        {
          "output_type": "execute_result",
          "data": {
            "text/plain": [
              "(100, 2)"
            ]
          },
          "metadata": {},
          "execution_count": 79
        }
      ]
    },
    {
      "cell_type": "code",
      "source": [
        "np.savetxt('datos.csv', datos, delimiter=',')"
      ],
      "metadata": {
        "id": "cg7lD07vUBly"
      },
      "execution_count": null,
      "outputs": []
    },
    {
      "cell_type": "markdown",
      "source": [
        "### **Ejercicio propuesto en clase**\n",
        "Un colega te pidió que cargues una base de datos y verifiques el número de filas y columnas del archivo cargado. Tenía dudas sobre si se habían cargado todas las filas.\n",
        "\n",
        "¿Cómo determinar las dimensiones correctas de una matriz?\n",
        "\n",
        "Para responder a esta pregunta, necesitarás acceder al siguiente dataset. Puedes usar la opción skiprows=1 para omitir la primera línea del archivo."
      ],
      "metadata": {
        "id": "pbHE_3ITaK5M"
      }
    },
    {
      "cell_type": "code",
      "source": [
        "url = 'https://raw.githubusercontent.com/allanspadini/numpy/dados/bytebank.csv'\n",
        "import numpy as np\n",
        "datos = np.loadtxt(url, delimiter = ',',skiprows=1, dtype=float)\n",
        "datos.shape"
      ],
      "metadata": {
        "colab": {
          "base_uri": "https://localhost:8080/"
        },
        "id": "7XwS2r5eem25",
        "outputId": "db0029ef-8bec-40a3-dafa-61ab5165a502"
      },
      "execution_count": null,
      "outputs": [
        {
          "output_type": "execute_result",
          "data": {
            "text/plain": [
              "(12, 2)"
            ]
          },
          "metadata": {},
          "execution_count": 72
        }
      ]
    }
  ],
  "metadata": {
    "colab": {
      "provenance": [],
      "collapsed_sections": [
        "50K6E5CvZS6I",
        "55McCw4Iam9X",
        "rfQVDIwwYj8M",
        "v2XQyElyYMHA",
        "rOAnk3X3dHf9",
        "pbHE_3ITaK5M"
      ],
      "authorship_tag": "ABX9TyMOUaW4z8UKS8GpXWgyZsyn",
      "include_colab_link": true
    },
    "kernelspec": {
      "display_name": "Python 3",
      "name": "python3"
    },
    "language_info": {
      "name": "python"
    }
  },
  "nbformat": 4,
  "nbformat_minor": 0
}